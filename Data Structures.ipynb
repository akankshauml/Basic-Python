{
 "cells": [
  {
   "cell_type": "markdown",
   "metadata": {},
   "source": [
    "## Lists, nested lists, tuples, sets, and dictionaries , Loops."
   ]
  },
  {
   "cell_type": "markdown",
   "metadata": {},
   "source": [
    "**LIST**\n",
    "- Ordered set of objects\n",
    "- Lists are mutable ( Can add or remove item after creating a list)\n",
    "- Can contain Duplicates , items need not be Unique\n",
    "- Elements can be of different data types"
   ]
  },
  {
   "cell_type": "code",
   "execution_count": 71,
   "metadata": {},
   "outputs": [],
   "source": [
    "# can create empty lists\n",
    "empty = []"
   ]
  },
  {
   "cell_type": "code",
   "execution_count": 72,
   "metadata": {},
   "outputs": [],
   "source": [
    "# Begins and ends with square brackets [ ] , with each item separated by a , ( keep a space after , ) \n",
    "list1 = [7,8,9,10]"
   ]
  },
  {
   "cell_type": "code",
   "execution_count": 73,
   "metadata": {},
   "outputs": [],
   "source": [
    "#Can contain numbers and strings together\n",
    "list2 = ['one',2,'three',4]"
   ]
  },
  {
   "cell_type": "code",
   "execution_count": 74,
   "metadata": {},
   "outputs": [],
   "source": [
    "# can have lists inside of a list\n",
    "list_in_list = [['one',1],['two',2],['three',3],['four',4]]"
   ]
  },
  {
   "cell_type": "code",
   "execution_count": 21,
   "metadata": {},
   "outputs": [],
   "source": [
    "# Zipping lists together:\n",
    "# zip takes two (or more) lists as inputs and returns an object that contains a list of pairs.\n",
    "\n",
    "lista = ['one','two','three','four']\n",
    "listb = [1,2,3,4]\n",
    "lista_b = zip(lista,listb)"
   ]
  },
  {
   "cell_type": "code",
   "execution_count": 22,
   "metadata": {},
   "outputs": [
    {
     "data": {
      "text/plain": [
       "<zip at 0x1065a42d0>"
      ]
     },
     "execution_count": 22,
     "metadata": {},
     "output_type": "execute_result"
    }
   ],
   "source": [
    "# does not print the zipped lists. Have to pass it as a list\n",
    "lista_b"
   ]
  },
  {
   "cell_type": "code",
   "execution_count": 23,
   "metadata": {},
   "outputs": [],
   "source": [
    "# this will print the zipped list as a list\n",
    "listc = list(lista_b)"
   ]
  },
  {
   "cell_type": "code",
   "execution_count": 24,
   "metadata": {},
   "outputs": [
    {
     "name": "stdout",
     "output_type": "stream",
     "text": [
      "[('one', 1), ('two', 2), ('three', 3), ('four', 4)]\n"
     ]
    }
   ],
   "source": [
    "print(listc)"
   ]
  },
  {
   "cell_type": "markdown",
   "metadata": {},
   "source": [
    "**Appending item in list**"
   ]
  },
  {
   "cell_type": "code",
   "execution_count": 9,
   "metadata": {},
   "outputs": [],
   "source": [
    "# In empty list\n",
    "empty= []"
   ]
  },
  {
   "cell_type": "code",
   "execution_count": 10,
   "metadata": {},
   "outputs": [],
   "source": [
    "# Will add 8 to an empty list\n",
    "empty.append(8)"
   ]
  },
  {
   "cell_type": "code",
   "execution_count": 11,
   "metadata": {},
   "outputs": [
    {
     "name": "stdout",
     "output_type": "stream",
     "text": [
      "[8]\n"
     ]
    }
   ],
   "source": [
    "print(empty)"
   ]
  },
  {
   "cell_type": "code",
   "execution_count": 12,
   "metadata": {},
   "outputs": [],
   "source": [
    "# Will append at end of the list, can add str and int\n",
    "empty.append(80)\n",
    "empty.append(\"one\")"
   ]
  },
  {
   "cell_type": "code",
   "execution_count": 13,
   "metadata": {},
   "outputs": [
    {
     "name": "stdout",
     "output_type": "stream",
     "text": [
      "[8, 80, 'one']\n"
     ]
    }
   ],
   "source": [
    "print(empty)"
   ]
  },
  {
   "cell_type": "code",
   "execution_count": 30,
   "metadata": {},
   "outputs": [],
   "source": [
    "# adding more than one item in a list. \n",
    "empty_add = empty + [90,8,2,\"five\"]"
   ]
  },
  {
   "cell_type": "code",
   "execution_count": 27,
   "metadata": {},
   "outputs": [
    {
     "name": "stdout",
     "output_type": "stream",
     "text": [
      "[8, 80, 'one', 90, 8, 2, 'five']\n"
     ]
    }
   ],
   "source": [
    "print(empty_add)"
   ]
  },
  {
   "cell_type": "code",
   "execution_count": 31,
   "metadata": {},
   "outputs": [],
   "source": [
    "# adding int only\n",
    "empty_add = empty + [20]"
   ]
  },
  {
   "cell_type": "code",
   "execution_count": 32,
   "metadata": {},
   "outputs": [
    {
     "name": "stdout",
     "output_type": "stream",
     "text": [
      "[8, 80, 'one', 20]\n"
     ]
    }
   ],
   "source": [
    "print(empty_add)"
   ]
  },
  {
   "cell_type": "code",
   "execution_count": 36,
   "metadata": {},
   "outputs": [],
   "source": [
    "# Insert will add to the specified index \n",
    "empty_add.insert(3,'middle')"
   ]
  },
  {
   "cell_type": "code",
   "execution_count": 37,
   "metadata": {},
   "outputs": [
    {
     "name": "stdout",
     "output_type": "stream",
     "text": [
      "[8, 80, 'one', 'middle', 20]\n"
     ]
    }
   ],
   "source": [
    "print(empty_add)"
   ]
  },
  {
   "cell_type": "code",
   "execution_count": 33,
   "metadata": {},
   "outputs": [],
   "source": [
    "add1 = [5,'four',3,'two']"
   ]
  },
  {
   "cell_type": "code",
   "execution_count": 34,
   "metadata": {},
   "outputs": [],
   "source": [
    "full_add = add1 + empty_add"
   ]
  },
  {
   "cell_type": "code",
   "execution_count": 35,
   "metadata": {},
   "outputs": [
    {
     "name": "stdout",
     "output_type": "stream",
     "text": [
      "[5, 'four', 3, 'two', 8, 80, 'one', 20]\n"
     ]
    }
   ],
   "source": [
    "print(full_add)"
   ]
  },
  {
   "cell_type": "code",
   "execution_count": 25,
   "metadata": {},
   "outputs": [],
   "source": [
    "# from above. Append will add to the end of the list. \n",
    "listc.append(['five',5])"
   ]
  },
  {
   "cell_type": "code",
   "execution_count": 91,
   "metadata": {},
   "outputs": [
    {
     "name": "stdout",
     "output_type": "stream",
     "text": [
      "[('one', 1), ('two', 2), ('three', 3), ('four', 4), ['five', 5]]\n"
     ]
    }
   ],
   "source": [
    "print(listc)"
   ]
  },
  {
   "cell_type": "code",
   "execution_count": 38,
   "metadata": {},
   "outputs": [],
   "source": [
    "# Insert will add to the specified index \n",
    "listc.insert(3,['middle',100])"
   ]
  },
  {
   "cell_type": "code",
   "execution_count": 39,
   "metadata": {},
   "outputs": [
    {
     "name": "stdout",
     "output_type": "stream",
     "text": [
      "[('one', 1), ('two', 2), ('three', 3), ['middle', 100], ('four', 4), ['five', 5]]\n"
     ]
    }
   ],
   "source": [
    "print(listc)"
   ]
  },
  {
   "cell_type": "markdown",
   "metadata": {},
   "source": [
    "**Range**"
   ]
  },
  {
   "cell_type": "code",
   "execution_count": 92,
   "metadata": {},
   "outputs": [],
   "source": [
    "# will create a range from 0 to 9 ( does not include the number in agrument)\n",
    "rng = range(10)"
   ]
  },
  {
   "cell_type": "code",
   "execution_count": 93,
   "metadata": {},
   "outputs": [
    {
     "name": "stdout",
     "output_type": "stream",
     "text": [
      "range(0, 10)\n"
     ]
    }
   ],
   "source": [
    "print(rng)"
   ]
  },
  {
   "cell_type": "code",
   "execution_count": 94,
   "metadata": {},
   "outputs": [
    {
     "name": "stdout",
     "output_type": "stream",
     "text": [
      "[0, 1, 2, 3, 4, 5, 6, 7, 8, 9]\n"
     ]
    }
   ],
   "source": [
    "print(list(rng))"
   ]
  },
  {
   "cell_type": "code",
   "execution_count": 95,
   "metadata": {},
   "outputs": [],
   "source": [
    "# creating range not starting with 0\n",
    "rng1 = range(8,15)"
   ]
  },
  {
   "cell_type": "code",
   "execution_count": 96,
   "metadata": {},
   "outputs": [
    {
     "name": "stdout",
     "output_type": "stream",
     "text": [
      "[8, 9, 10, 11, 12, 13, 14]\n"
     ]
    }
   ],
   "source": [
    "print(list(rng1))"
   ]
  },
  {
   "cell_type": "code",
   "execution_count": 97,
   "metadata": {},
   "outputs": [],
   "source": [
    "# Range that will skip numbers - Range below will start at 5, difference of 3 . End at 21. \n",
    "rng2 = range(5,22,3)"
   ]
  },
  {
   "cell_type": "code",
   "execution_count": 98,
   "metadata": {},
   "outputs": [
    {
     "name": "stdout",
     "output_type": "stream",
     "text": [
      "[5, 8, 11, 14, 17, 20]\n"
     ]
    }
   ],
   "source": [
    "print(list(rng2))"
   ]
  },
  {
   "cell_type": "markdown",
   "metadata": {},
   "source": [
    "**Length, slicing List, change list element**"
   ]
  },
  {
   "cell_type": "code",
   "execution_count": 1,
   "metadata": {},
   "outputs": [],
   "source": [
    "harry_potter = ['Harry','Ron',\"Hermione\",'Luna','Neville','Ginny','Fred','George','Hedwig','McGonagall','Hagrid']"
   ]
  },
  {
   "cell_type": "code",
   "execution_count": 100,
   "metadata": {},
   "outputs": [
    {
     "name": "stdout",
     "output_type": "stream",
     "text": [
      "11\n"
     ]
    }
   ],
   "source": [
    "print(len(harry_potter))"
   ]
  },
  {
   "cell_type": "code",
   "execution_count": 101,
   "metadata": {},
   "outputs": [
    {
     "name": "stdout",
     "output_type": "stream",
     "text": [
      "4\n"
     ]
    }
   ],
   "source": [
    "# Length of 4th element in list. Luna is 4 characters \n",
    "print(len(harry_potter[3]))"
   ]
  },
  {
   "cell_type": "code",
   "execution_count": 102,
   "metadata": {},
   "outputs": [
    {
     "data": {
      "text/plain": [
       "'Harry'"
      ]
     },
     "execution_count": 102,
     "metadata": {},
     "output_type": "execute_result"
    }
   ],
   "source": [
    "# first element in list. Starts with index 0\n",
    "harry_potter[0]"
   ]
  },
  {
   "cell_type": "code",
   "execution_count": 103,
   "metadata": {},
   "outputs": [
    {
     "data": {
      "text/plain": [
       "['Harry', 'Ron', 'Hermione', 'Luna', 'Neville']"
      ]
     },
     "execution_count": 103,
     "metadata": {},
     "output_type": "execute_result"
    }
   ],
   "source": [
    "#selecting first 5 elements\n",
    "harry_potter[:5]"
   ]
  },
  {
   "cell_type": "code",
   "execution_count": 104,
   "metadata": {},
   "outputs": [
    {
     "data": {
      "text/plain": [
       "['Ginny', 'Fred', 'George', 'Hedwig', 'McGonagall', 'Hagrid']"
      ]
     },
     "execution_count": 104,
     "metadata": {},
     "output_type": "execute_result"
    }
   ],
   "source": [
    "# 5th to last element\n",
    "harry_potter[5:]"
   ]
  },
  {
   "cell_type": "code",
   "execution_count": 105,
   "metadata": {},
   "outputs": [
    {
     "data": {
      "text/plain": [
       "'Hagrid'"
      ]
     },
     "execution_count": 105,
     "metadata": {},
     "output_type": "execute_result"
    }
   ],
   "source": [
    "# last element in list\n",
    "harry_potter[-1]"
   ]
  },
  {
   "cell_type": "code",
   "execution_count": 106,
   "metadata": {},
   "outputs": [
    {
     "data": {
      "text/plain": [
       "['Hedwig', 'McGonagall', 'Hagrid']"
      ]
     },
     "execution_count": 106,
     "metadata": {},
     "output_type": "execute_result"
    }
   ],
   "source": [
    "# last 3 element in list\n",
    "harry_potter[-3:]"
   ]
  },
  {
   "cell_type": "code",
   "execution_count": 107,
   "metadata": {},
   "outputs": [
    {
     "data": {
      "text/plain": [
       "['Harry', 'Ron', 'Hermione', 'Luna', 'Neville', 'Ginny', 'Fred', 'George']"
      ]
     },
     "execution_count": 107,
     "metadata": {},
     "output_type": "execute_result"
    }
   ],
   "source": [
    "# all elements without the last 3\n",
    "harry_potter[:-3]"
   ]
  },
  {
   "cell_type": "code",
   "execution_count": 108,
   "metadata": {},
   "outputs": [
    {
     "data": {
      "text/plain": [
       "['Luna', 'Neville', 'Ginny', 'Fred', 'George', 'Hedwig']"
      ]
     },
     "execution_count": 108,
     "metadata": {},
     "output_type": "execute_result"
    }
   ],
   "source": [
    "# elements in the middle of the list. Started with Luna (index 3) ending at Hedwig( index 8)\n",
    "harry_potter[3:9]"
   ]
  },
  {
   "cell_type": "code",
   "execution_count": 109,
   "metadata": {},
   "outputs": [],
   "source": [
    "new_hp = harry_potter + [\"Harry\",\"Harry\",'Ron','Ron','Ron','Ron']"
   ]
  },
  {
   "cell_type": "code",
   "execution_count": 110,
   "metadata": {},
   "outputs": [
    {
     "data": {
      "text/plain": [
       "5"
      ]
     },
     "execution_count": 110,
     "metadata": {},
     "output_type": "execute_result"
    }
   ],
   "source": [
    "# Counting number of Ron in the new hp\n",
    "new_hp.count('Ron')"
   ]
  },
  {
   "cell_type": "markdown",
   "metadata": {},
   "source": [
    "**Change/insert/remove element in a list**"
   ]
  },
  {
   "cell_type": "code",
   "execution_count": 3,
   "metadata": {},
   "outputs": [
    {
     "name": "stdout",
     "output_type": "stream",
     "text": [
      "['Harry', 'Ron', 'Hermione', 'Luna', 'Neville', 'Ginny', 'Fred', 'George', 'Hedwig', 'McGonagall', 'Hagrid']\n"
     ]
    }
   ],
   "source": [
    "print(harry_potter)"
   ]
  },
  {
   "cell_type": "code",
   "execution_count": 4,
   "metadata": {},
   "outputs": [],
   "source": [
    "# will change the element at position -3 'Hedwig' to 'Sirius'\n",
    "harry_potter[-3] = 'Sirius'"
   ]
  },
  {
   "cell_type": "code",
   "execution_count": 5,
   "metadata": {},
   "outputs": [
    {
     "name": "stdout",
     "output_type": "stream",
     "text": [
      "['Harry', 'Ron', 'Hermione', 'Luna', 'Neville', 'Ginny', 'Fred', 'George', 'Sirius', 'McGonagall', 'Hagrid']\n"
     ]
    }
   ],
   "source": [
    "print(harry_potter)"
   ]
  },
  {
   "cell_type": "code",
   "execution_count": 43,
   "metadata": {},
   "outputs": [],
   "source": [
    "# Add hedwig after harry\n",
    "harry_potter.insert(1,'hedwig')"
   ]
  },
  {
   "cell_type": "code",
   "execution_count": 44,
   "metadata": {},
   "outputs": [
    {
     "name": "stdout",
     "output_type": "stream",
     "text": [
      "['Harry', 'hedwig', 'Ron', 'Hermione', 'Luna', 'Neville', 'Ginny', 'Fred', 'George', 'Sirius', 'McGonagall', 'Hagrid']\n"
     ]
    }
   ],
   "source": [
    "print(harry_potter)"
   ]
  },
  {
   "cell_type": "code",
   "execution_count": 45,
   "metadata": {},
   "outputs": [
    {
     "ename": "ValueError",
     "evalue": "list.remove(x): x not in list",
     "output_type": "error",
     "traceback": [
      "\u001b[0;31m---------------------------------------------------------------------------\u001b[0m",
      "\u001b[0;31mValueError\u001b[0m                                Traceback (most recent call last)",
      "\u001b[0;32m<ipython-input-45-94c12088fad1>\u001b[0m in \u001b[0;36m<module>\u001b[0;34m\u001b[0m\n\u001b[1;32m      1\u001b[0m \u001b[0;31m# CASE SENSITIVE, cant remove Hedwig - should match case with list\u001b[0m\u001b[0;34m\u001b[0m\u001b[0;34m\u001b[0m\u001b[0;34m\u001b[0m\u001b[0m\n\u001b[0;32m----> 2\u001b[0;31m \u001b[0mharry_potter\u001b[0m\u001b[0;34m.\u001b[0m\u001b[0mremove\u001b[0m\u001b[0;34m(\u001b[0m\u001b[0;34m\"Hedwig\"\u001b[0m\u001b[0;34m)\u001b[0m\u001b[0;34m\u001b[0m\u001b[0;34m\u001b[0m\u001b[0m\n\u001b[0m",
      "\u001b[0;31mValueError\u001b[0m: list.remove(x): x not in list"
     ]
    }
   ],
   "source": [
    "# CASE SENSITIVE, cant remove Hedwig - should match case with list \n",
    "harry_potter.remove(\"Hedwig\")"
   ]
  },
  {
   "cell_type": "code",
   "execution_count": 46,
   "metadata": {},
   "outputs": [],
   "source": [
    "#removing hedwig\n",
    "harry_potter.remove(\"hedwig\")"
   ]
  },
  {
   "cell_type": "markdown",
   "metadata": {},
   "source": [
    "**Sort List**"
   ]
  },
  {
   "cell_type": "code",
   "execution_count": 111,
   "metadata": {},
   "outputs": [],
   "source": [
    "#sort by name. This will change the original list\n",
    "new_hp.sort()"
   ]
  },
  {
   "cell_type": "code",
   "execution_count": 112,
   "metadata": {},
   "outputs": [
    {
     "name": "stdout",
     "output_type": "stream",
     "text": [
      "['Fred', 'George', 'Ginny', 'Hagrid', 'Harry', 'Harry', 'Harry', 'Hedwig', 'Hermione', 'Luna', 'McGonagall', 'Neville', 'Ron', 'Ron', 'Ron', 'Ron', 'Ron']\n"
     ]
    }
   ],
   "source": [
    "print(new_hp)"
   ]
  },
  {
   "cell_type": "code",
   "execution_count": 145,
   "metadata": {},
   "outputs": [],
   "source": [
    "#This will not change the original list\n",
    "sorted_hp = sorted(harry_potter)"
   ]
  },
  {
   "cell_type": "code",
   "execution_count": 146,
   "metadata": {},
   "outputs": [
    {
     "name": "stdout",
     "output_type": "stream",
     "text": [
      "['Fred', 'George', 'Ginny', 'Hagrid', 'Harry', 'Hedwig', 'Hermione', 'Luna', 'McGonagall', 'Neville', 'Ron']\n"
     ]
    }
   ],
   "source": [
    "print(sorted_hp)"
   ]
  },
  {
   "cell_type": "code",
   "execution_count": 147,
   "metadata": {},
   "outputs": [
    {
     "name": "stdout",
     "output_type": "stream",
     "text": [
      "['Harry', 'Ron', 'Hermione', 'Luna', 'Neville', 'Ginny', 'Fred', 'George', 'Hedwig', 'McGonagall', 'Hagrid']\n"
     ]
    }
   ],
   "source": [
    "print(harry_potter)"
   ]
  },
  {
   "cell_type": "markdown",
   "metadata": {},
   "source": [
    "**Functions for lists**"
   ]
  },
  {
   "cell_type": "code",
   "execution_count": 138,
   "metadata": {},
   "outputs": [],
   "source": [
    "# creating a function adding first and last element of a list\n",
    "def first_last(lst):\n",
    "    num = lst[0]+lst[-1]\n",
    "    return num"
   ]
  },
  {
   "cell_type": "code",
   "execution_count": 139,
   "metadata": {},
   "outputs": [],
   "source": [
    "# testing the function\n",
    "lst1 = [9,8,78,12,4]"
   ]
  },
  {
   "cell_type": "code",
   "execution_count": 140,
   "metadata": {},
   "outputs": [
    {
     "name": "stdout",
     "output_type": "stream",
     "text": [
      "13\n"
     ]
    }
   ],
   "source": [
    "# 9+4 = 13\n",
    "print(first_last(lst1))"
   ]
  },
  {
   "cell_type": "code",
   "execution_count": 148,
   "metadata": {},
   "outputs": [],
   "source": [
    "# finding the list with more items \n",
    "def long_list(a,b):\n",
    "    if len(a)>len(b):\n",
    "        return a\n",
    "    else:\n",
    "        return b"
   ]
  },
  {
   "cell_type": "code",
   "execution_count": 149,
   "metadata": {},
   "outputs": [
    {
     "name": "stdout",
     "output_type": "stream",
     "text": [
      "['Fred', 'George', 'Ginny', 'Hagrid', 'Harry', 'Harry', 'Harry', 'Hedwig', 'Hermione', 'Luna', 'McGonagall', 'Neville', 'Ron', 'Ron', 'Ron', 'Ron', 'Ron']\n"
     ]
    }
   ],
   "source": [
    "#new_hp list is longer than harry_potter list\n",
    "print(long_list(harry_potter,new_hp))"
   ]
  },
  {
   "cell_type": "code",
   "execution_count": 152,
   "metadata": {},
   "outputs": [],
   "source": [
    "# function to remove elements in the middle of a list. give paraments of lst and index of the elements to be removed \n",
    "def remove_middle(lst, me1,me2):\n",
    "    return lst[:me1] + lst[me2+1:]"
   ]
  },
  {
   "cell_type": "code",
   "execution_count": 155,
   "metadata": {},
   "outputs": [],
   "source": [
    "hp_movies = [\"1 Harry Potter and the Philosophers Stone\",\n",
    "             \"2 Harry Potter and the Chambers of Secret\",\n",
    "             \"3 Harry Potter and the Prisoner of Azkaban \",\n",
    "             \"4 Harry Potter and the Goblet of Fire\" ,\n",
    "             \"5 Harry Potter and the Order of the Phoenix\",\n",
    "            \"6 Harry Potter and the Half-Blood Prince\",\n",
    "            \"7a Harry Potter and the Deathly Hallows – Part 1\",\n",
    "             \"7b Harry Potter and the Deathly Hallows – Part 2\"]"
   ]
  },
  {
   "cell_type": "code",
   "execution_count": 156,
   "metadata": {},
   "outputs": [],
   "source": [
    "# remove the 3,4,5 movies from the list at index 2,3,4"
   ]
  },
  {
   "cell_type": "code",
   "execution_count": 157,
   "metadata": {},
   "outputs": [
    {
     "name": "stdout",
     "output_type": "stream",
     "text": [
      "['1 Harry Potter and the Philosophers Stone', '2 Harry Potter and the Chambers of Secret', '6 Harry Potter and the Half-Blood Prince', '7a Harry Potter and the Deathly Hallows – Part 1', '7b Harry Potter and the Deathly Hallows – Part 2']\n"
     ]
    }
   ],
   "source": [
    "print(remove_middle(hp_movies,2,4))"
   ]
  },
  {
   "cell_type": "markdown",
   "metadata": {},
   "source": [
    "**Comprehensive Lists, Calculations in a list**"
   ]
  },
  {
   "cell_type": "code",
   "execution_count": 164,
   "metadata": {},
   "outputs": [],
   "source": [
    "list1 = [1,2,3,4,5,6,7,8]"
   ]
  },
  {
   "cell_type": "code",
   "execution_count": 165,
   "metadata": {},
   "outputs": [],
   "source": [
    "#We want another list that is list1 multiplied by 4\n",
    "list2 = [ i*2 for i in list1]"
   ]
  },
  {
   "cell_type": "code",
   "execution_count": 166,
   "metadata": {},
   "outputs": [
    {
     "name": "stdout",
     "output_type": "stream",
     "text": [
      "[2, 4, 6, 8, 10, 12, 14, 16]\n"
     ]
    }
   ],
   "source": [
    "print(list2)"
   ]
  },
  {
   "cell_type": "code",
   "execution_count": 169,
   "metadata": {},
   "outputs": [],
   "source": [
    "# More complex calculations . we can add 5 to items in list1 and divide by 4.5 .\n",
    "list3 = [(i*5)/0.25 for i in list2]"
   ]
  },
  {
   "cell_type": "code",
   "execution_count": 170,
   "metadata": {},
   "outputs": [
    {
     "name": "stdout",
     "output_type": "stream",
     "text": [
      "[40.0, 80.0, 120.0, 160.0, 200.0, 240.0, 280.0, 320.0]\n"
     ]
    }
   ],
   "source": [
    "print(list3)"
   ]
  },
  {
   "cell_type": "code",
   "execution_count": 171,
   "metadata": {},
   "outputs": [],
   "source": [
    "rng15 = range(15)"
   ]
  },
  {
   "cell_type": "code",
   "execution_count": 174,
   "metadata": {},
   "outputs": [
    {
     "name": "stdout",
     "output_type": "stream",
     "text": [
      "[0, 1, 2, 3, 4, 5, 6, 7, 8, 9, 10, 11, 12, 13, 14]\n"
     ]
    }
   ],
   "source": [
    "print(list(rng15))"
   ]
  },
  {
   "cell_type": "code",
   "execution_count": 172,
   "metadata": {},
   "outputs": [],
   "source": [
    "rng15_squared = [ i**2 for i in rng15]"
   ]
  },
  {
   "cell_type": "code",
   "execution_count": 173,
   "metadata": {},
   "outputs": [
    {
     "name": "stdout",
     "output_type": "stream",
     "text": [
      "[0, 1, 4, 9, 16, 25, 36, 49, 64, 81, 100, 121, 144, 169, 196]\n"
     ]
    }
   ],
   "source": [
    "print(rng15_squared)"
   ]
  },
  {
   "cell_type": "code",
   "execution_count": 186,
   "metadata": {},
   "outputs": [],
   "source": [
    "# greater than or less thank or other operators\n",
    "greater = [ i > 4 for i in rng15]"
   ]
  },
  {
   "cell_type": "code",
   "execution_count": 187,
   "metadata": {},
   "outputs": [
    {
     "name": "stdout",
     "output_type": "stream",
     "text": [
      "[False, False, False, False, False, True, True, True, True, True, True, True, True, True, True]\n"
     ]
    }
   ],
   "source": [
    "print(greater)"
   ]
  },
  {
   "cell_type": "code",
   "execution_count": 191,
   "metadata": {},
   "outputs": [],
   "source": [
    "# in nested list\n",
    "listn = [[8,9],[5,7],[8,3],[4,6],[99,78],[89,132]]\n"
   ]
  },
  {
   "cell_type": "code",
   "execution_count": 192,
   "metadata": {},
   "outputs": [],
   "source": [
    "#less than\n",
    "less_than = [i1>i2 for(i1,i2) in listn]"
   ]
  },
  {
   "cell_type": "code",
   "execution_count": 193,
   "metadata": {},
   "outputs": [
    {
     "name": "stdout",
     "output_type": "stream",
     "text": [
      "[False, False, True, False, True, False]\n"
     ]
    }
   ],
   "source": [
    "print(less_than)"
   ]
  },
  {
   "cell_type": "code",
   "execution_count": 175,
   "metadata": {},
   "outputs": [],
   "source": [
    "# get remainder \n",
    "remainder = [ i%5 for i in rng15_squared]"
   ]
  },
  {
   "cell_type": "code",
   "execution_count": 176,
   "metadata": {},
   "outputs": [
    {
     "name": "stdout",
     "output_type": "stream",
     "text": [
      "[0, 1, 4, 4, 1, 0, 1, 4, 4, 1, 0, 1, 4, 4, 1]\n"
     ]
    }
   ],
   "source": [
    "print(remainder)"
   ]
  },
  {
   "cell_type": "code",
   "execution_count": 177,
   "metadata": {},
   "outputs": [
    {
     "name": "stdout",
     "output_type": "stream",
     "text": [
      "['Harry', 'Ron', 'Hermione', 'Luna', 'Neville', 'Ginny', 'Fred', 'George', 'Hedwig', 'McGonagall', 'Hagrid']\n"
     ]
    }
   ],
   "source": [
    "# for strings\n",
    "print(harry_potter)"
   ]
  },
  {
   "cell_type": "code",
   "execution_count": 179,
   "metadata": {},
   "outputs": [],
   "source": [
    "# say hello to all \n",
    "hello_all = [\"Hello \" + i for i in harry_potter]"
   ]
  },
  {
   "cell_type": "code",
   "execution_count": 180,
   "metadata": {},
   "outputs": [
    {
     "name": "stdout",
     "output_type": "stream",
     "text": [
      "['Hello Harry', 'Hello Ron', 'Hello Hermione', 'Hello Luna', 'Hello Neville', 'Hello Ginny', 'Hello Fred', 'Hello George', 'Hello Hedwig', 'Hello McGonagall', 'Hello Hagrid']\n"
     ]
    }
   ],
   "source": [
    "print(hello_all)"
   ]
  },
  {
   "cell_type": "code",
   "execution_count": 181,
   "metadata": {},
   "outputs": [],
   "source": [
    "# get len of all names in list\n",
    "len_hp = [len(i) for i in harry_potter]"
   ]
  },
  {
   "cell_type": "code",
   "execution_count": 182,
   "metadata": {},
   "outputs": [
    {
     "name": "stdout",
     "output_type": "stream",
     "text": [
      "[5, 3, 8, 4, 7, 5, 4, 6, 6, 10, 6]\n"
     ]
    }
   ],
   "source": [
    "print(len_hp)"
   ]
  },
  {
   "cell_type": "code",
   "execution_count": 183,
   "metadata": {},
   "outputs": [
    {
     "name": "stdout",
     "output_type": "stream",
     "text": [
      "['Fred', 'George', 'Ginny', 'Hagrid', 'Harry', 'Harry', 'Harry', 'Hedwig', 'Hermione', 'Luna', 'McGonagall', 'Neville', 'Ron', 'Ron', 'Ron', 'Ron', 'Ron']\n"
     ]
    }
   ],
   "source": [
    "print(new_hp)"
   ]
  },
  {
   "cell_type": "code",
   "execution_count": 184,
   "metadata": {},
   "outputs": [],
   "source": [
    "ron_repeat = [ i=='Ron' for i in new_hp]"
   ]
  },
  {
   "cell_type": "code",
   "execution_count": 185,
   "metadata": {},
   "outputs": [
    {
     "name": "stdout",
     "output_type": "stream",
     "text": [
      "[False, False, False, False, False, False, False, False, False, False, False, False, True, True, True, True, True]\n"
     ]
    }
   ],
   "source": [
    "print(ron_repeat)"
   ]
  },
  {
   "cell_type": "code",
   "execution_count": 194,
   "metadata": {},
   "outputs": [],
   "source": [
    "hp_last = ['Potter','Weasley','Granger','Lovegood','Longbottom']"
   ]
  },
  {
   "cell_type": "code",
   "execution_count": 197,
   "metadata": {},
   "outputs": [],
   "source": [
    "hp_five = harry_potter[:5]"
   ]
  },
  {
   "cell_type": "code",
   "execution_count": 198,
   "metadata": {},
   "outputs": [
    {
     "data": {
      "text/plain": [
       "['Harry', 'Ron', 'Hermione', 'Luna', 'Neville']"
      ]
     },
     "execution_count": 198,
     "metadata": {},
     "output_type": "execute_result"
    }
   ],
   "source": [
    "hp_five"
   ]
  },
  {
   "cell_type": "code",
   "execution_count": 203,
   "metadata": {},
   "outputs": [],
   "source": [
    "#combine names \n",
    "combine_name = [firstname + \" \"+ lastname for (firstname, lastname) in zip(hp_five,hp_last)]"
   ]
  },
  {
   "cell_type": "code",
   "execution_count": 204,
   "metadata": {},
   "outputs": [
    {
     "name": "stdout",
     "output_type": "stream",
     "text": [
      "['Harry Potter', 'Ron Weasley', 'Hermione Granger', 'Luna Lovegood', 'Neville Longbottom']\n"
     ]
    }
   ],
   "source": [
    "print(combine_name)"
   ]
  },
  {
   "cell_type": "markdown",
   "metadata": {},
   "source": [
    "### Loops - Let us move through each item of a list"
   ]
  },
  {
   "cell_type": "code",
   "execution_count": 113,
   "metadata": {},
   "outputs": [],
   "source": [
    "# a simple  for loop\n",
    "colors = ['Red',\"yellow\",\"orange\",\"pink\",\"purple\",\"lilac\"]"
   ]
  },
  {
   "cell_type": "code",
   "execution_count": 114,
   "metadata": {},
   "outputs": [
    {
     "name": "stdout",
     "output_type": "stream",
     "text": [
      "Red\n",
      "yellow\n",
      "orange\n",
      "pink\n",
      "purple\n",
      "lilac\n"
     ]
    }
   ],
   "source": [
    "#This will print each color in the colors list. \n",
    "for color in colors:\n",
    "    print(color)"
   ]
  },
  {
   "cell_type": "code",
   "execution_count": 115,
   "metadata": {},
   "outputs": [
    {
     "name": "stdout",
     "output_type": "stream",
     "text": [
      "Red\n",
      "yellow\n",
      "orange\n",
      "pink\n",
      "purple\n",
      "lilac\n"
     ]
    }
   ],
   "source": [
    "# We can use any name in the for loop. using i instead of color will produce the same result\n",
    "for i in colors:\n",
    "    print(i)"
   ]
  },
  {
   "cell_type": "markdown",
   "metadata": {},
   "source": [
    "### Range in Loops"
   ]
  },
  {
   "cell_type": "code",
   "execution_count": 116,
   "metadata": {},
   "outputs": [
    {
     "name": "stdout",
     "output_type": "stream",
     "text": [
      "yes\n",
      "yes\n",
      "yes\n"
     ]
    }
   ],
   "source": [
    "# This will print \"yes\" three times as mentioned in the range. \n",
    "# We can change this to 10 if we want yes printed 10 times\n",
    "for i in range(3):\n",
    "  print(\"yes\")"
   ]
  },
  {
   "cell_type": "code",
   "execution_count": 47,
   "metadata": {},
   "outputs": [],
   "source": [
    "sport = \"I like Quidditch\""
   ]
  },
  {
   "cell_type": "code",
   "execution_count": 48,
   "metadata": {},
   "outputs": [
    {
     "name": "stdout",
     "output_type": "stream",
     "text": [
      "I like Quidditch\n",
      "I like Quidditch\n",
      "I like Quidditch\n",
      "I like Quidditch\n",
      "I like Quidditch\n"
     ]
    }
   ],
   "source": [
    "for i in range(5):\n",
    "    print(sport)"
   ]
  },
  {
   "cell_type": "code",
   "execution_count": 119,
   "metadata": {},
   "outputs": [],
   "source": [
    "# We can append (add items to the end) items from one list to other list\n",
    "lst1 = [\"apples\",\"oranges\",\"bananas\",\"grapes\"]\n",
    "lst2 =[\"kiwi\",\"mango\",\"berries\",\"papaya\"]"
   ]
  },
  {
   "cell_type": "code",
   "execution_count": 120,
   "metadata": {},
   "outputs": [
    {
     "name": "stdout",
     "output_type": "stream",
     "text": [
      "['kiwi', 'mango', 'berries', 'papaya', 'apples', 'oranges', 'bananas', 'grapes']\n"
     ]
    }
   ],
   "source": [
    "# this will add each fruit from lst1 into lst2 one at a time and \n",
    "for fruits in lst1:\n",
    "    lst2.append(fruits)\n",
    "print(lst2)"
   ]
  },
  {
   "cell_type": "code",
   "execution_count": 121,
   "metadata": {},
   "outputs": [
    {
     "name": "stdout",
     "output_type": "stream",
     "text": [
      "['kiwi', 'mango', 'berries', 'papaya', 'apples', 'oranges', 'bananas', 'grapes', 'apples']\n",
      "['kiwi', 'mango', 'berries', 'papaya', 'apples', 'oranges', 'bananas', 'grapes', 'apples', 'oranges']\n",
      "['kiwi', 'mango', 'berries', 'papaya', 'apples', 'oranges', 'bananas', 'grapes', 'apples', 'oranges', 'bananas']\n",
      "['kiwi', 'mango', 'berries', 'papaya', 'apples', 'oranges', 'bananas', 'grapes', 'apples', 'oranges', 'bananas', 'grapes']\n"
     ]
    }
   ],
   "source": [
    "# if print is in the for statement then 4 lines will be printed as there are 4 fruits in lst1 to be added to lst2\n",
    "for fruits in lst1:\n",
    "    lst2.append(fruits)\n",
    "    print(lst2)"
   ]
  },
  {
   "cell_type": "code",
   "execution_count": 122,
   "metadata": {},
   "outputs": [
    {
     "name": "stdout",
     "output_type": "stream",
     "text": [
      "['apples', 'oranges', 'bananas', 'grapes']\n"
     ]
    }
   ],
   "source": [
    "print(lst1)"
   ]
  },
  {
   "cell_type": "code",
   "execution_count": 123,
   "metadata": {},
   "outputs": [
    {
     "name": "stdout",
     "output_type": "stream",
     "text": [
      "['kiwi', 'mango', 'berries', 'papaya', 'apples', 'oranges', 'bananas', 'grapes', 'apples', 'oranges', 'bananas', 'grapes']\n"
     ]
    }
   ],
   "source": [
    "print(lst2)"
   ]
  },
  {
   "cell_type": "markdown",
   "metadata": {},
   "source": [
    "### Break in loop"
   ]
  },
  {
   "cell_type": "markdown",
   "metadata": {},
   "source": [
    "A break in the for loop will stop the loop when the value is found. It will not print all the values in the list"
   ]
  },
  {
   "cell_type": "code",
   "execution_count": 124,
   "metadata": {},
   "outputs": [],
   "source": [
    "fruits = ['kiwi', 'mango', 'berries', 'papaya', 'apples', 'oranges', 'bananas', 'grapes']"
   ]
  },
  {
   "cell_type": "code",
   "execution_count": 125,
   "metadata": {},
   "outputs": [
    {
     "name": "stdout",
     "output_type": "stream",
     "text": [
      "kiwi\n",
      "mango\n",
      "berries\n",
      "papaya\n",
      "apples\n",
      "They have what I want!\n"
     ]
    }
   ],
   "source": [
    "# the loop will print the item and then print the statment\n",
    "for fruit in fruits:\n",
    "  print(fruit)\n",
    "  if fruit == 'apples':\n",
    "    break\n",
    "print(\"They have what I want!\")"
   ]
  },
  {
   "cell_type": "markdown",
   "metadata": {},
   "source": [
    "### Continue in loop"
   ]
  },
  {
   "cell_type": "markdown",
   "metadata": {},
   "source": [
    "Continue will continue to print the items in a list but skip the items not required"
   ]
  },
  {
   "cell_type": "code",
   "execution_count": 126,
   "metadata": {},
   "outputs": [],
   "source": [
    "ages = [12,18,15,17,16,19,17,16,19,18]"
   ]
  },
  {
   "cell_type": "code",
   "execution_count": 127,
   "metadata": {},
   "outputs": [
    {
     "name": "stdout",
     "output_type": "stream",
     "text": [
      "18\n",
      "17\n",
      "16\n",
      "19\n",
      "17\n",
      "16\n",
      "19\n",
      "18\n"
     ]
    }
   ],
   "source": [
    "# Skips all the ages 16 and under\n",
    "for age in ages:\n",
    "    if age < 16:\n",
    "        continue\n",
    "    print(age)"
   ]
  },
  {
   "cell_type": "code",
   "execution_count": 128,
   "metadata": {},
   "outputs": [],
   "source": [
    "fruits1 = ['kiwi', 'mango', 'berries', 'papaya','mango', 'apples','mango', 'oranges', 'bananas','mango', 'grapes']"
   ]
  },
  {
   "cell_type": "code",
   "execution_count": 129,
   "metadata": {},
   "outputs": [
    {
     "name": "stdout",
     "output_type": "stream",
     "text": [
      "kiwi\n",
      "berries\n",
      "papaya\n",
      "apples\n",
      "oranges\n",
      "bananas\n",
      "grapes\n"
     ]
    }
   ],
   "source": [
    "for i in fruits1:\n",
    "    if i == 'mango':\n",
    "        continue\n",
    "    print(i)"
   ]
  },
  {
   "cell_type": "markdown",
   "metadata": {},
   "source": [
    "### While Loops"
   ]
  },
  {
   "cell_type": "markdown",
   "metadata": {},
   "source": [
    "While loop performs the set of code until some condition is met"
   ]
  },
  {
   "cell_type": "code",
   "execution_count": 130,
   "metadata": {},
   "outputs": [],
   "source": [
    "fruits = ['kiwi', 'mango', 'berries', 'papaya', 'apples', 'oranges', 'bananas', 'grapes']"
   ]
  },
  {
   "cell_type": "code",
   "execution_count": 131,
   "metadata": {},
   "outputs": [
    {
     "data": {
      "text/plain": [
       "8"
      ]
     },
     "execution_count": 131,
     "metadata": {},
     "output_type": "execute_result"
    }
   ],
   "source": [
    "len(fruits)"
   ]
  },
  {
   "cell_type": "code",
   "execution_count": 132,
   "metadata": {},
   "outputs": [
    {
     "name": "stdout",
     "output_type": "stream",
     "text": [
      "kiwi\n",
      "mango\n",
      "berries\n",
      "papaya\n",
      "apples\n",
      "oranges\n",
      "bananas\n",
      "grapes\n"
     ]
    }
   ],
   "source": [
    "# When the condition index<len(fruits) is met the loops run. If we set the index = 9, it will not run.\n",
    "# the loop will print the name of the fruit at index mentioned and the next\n",
    "index = 0\n",
    "while index < len(fruits):\n",
    "  print(fruits[index])\n",
    "  index += 1"
   ]
  },
  {
   "cell_type": "code",
   "execution_count": 133,
   "metadata": {},
   "outputs": [],
   "source": [
    "index = 9\n",
    "while index < len(fruits):\n",
    "  print(fruits[index])\n",
    "  index += 1"
   ]
  },
  {
   "cell_type": "code",
   "execution_count": 134,
   "metadata": {},
   "outputs": [
    {
     "name": "stdout",
     "output_type": "stream",
     "text": [
      "apples\n",
      "oranges\n",
      "bananas\n",
      "grapes\n"
     ]
    }
   ],
   "source": [
    "#apples is at index 4 . So loop will print apples and everything after apples\n",
    "index = 4\n",
    "while index < len(fruits):\n",
    "  print(fruits[index])\n",
    "  index += 1"
   ]
  },
  {
   "cell_type": "code",
   "execution_count": 135,
   "metadata": {},
   "outputs": [],
   "source": [
    "# appending new items in a list using while"
   ]
  },
  {
   "cell_type": "code",
   "execution_count": 136,
   "metadata": {},
   "outputs": [],
   "source": [
    "grocerylist = []"
   ]
  },
  {
   "cell_type": "code",
   "execution_count": 137,
   "metadata": {},
   "outputs": [],
   "source": [
    "masterlist = ['apples', 'oranges', 'bananas','milk','bread','eggs','yogurt','cheese','cereal','chips']"
   ]
  },
  {
   "cell_type": "code",
   "execution_count": null,
   "metadata": {},
   "outputs": [],
   "source": []
  }
 ],
 "metadata": {
  "kernelspec": {
   "display_name": "Python 3",
   "language": "python",
   "name": "python3"
  },
  "language_info": {
   "codemirror_mode": {
    "name": "ipython",
    "version": 3
   },
   "file_extension": ".py",
   "mimetype": "text/x-python",
   "name": "python",
   "nbconvert_exporter": "python",
   "pygments_lexer": "ipython3",
   "version": "3.7.4"
  }
 },
 "nbformat": 4,
 "nbformat_minor": 2
}
