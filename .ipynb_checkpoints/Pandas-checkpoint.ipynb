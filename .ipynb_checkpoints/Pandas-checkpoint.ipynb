{
 "cells": [
  {
   "cell_type": "markdown",
   "metadata": {},
   "source": [
    "# Pandas"
   ]
  },
  {
   "cell_type": "code",
   "execution_count": 1,
   "metadata": {},
   "outputs": [],
   "source": [
    "#import pandas module\n",
    "import pandas as pd"
   ]
  },
  {
   "cell_type": "markdown",
   "metadata": {},
   "source": [
    "**Creating a Dataframe**"
   ]
  },
  {
   "cell_type": "code",
   "execution_count": 90,
   "metadata": {},
   "outputs": [],
   "source": [
    "# Creating by passing a dictionary {}\n",
    "# Key is column name\n",
    "# Value is a list \n",
    "\n",
    "students = pd.DataFrame({\n",
    "    'name':['Harry Potter','Ron Weasley','Hermione Granger','Luna Lovegood','Susan Bones','Draco Malfoy','Neville Longbottom'],\n",
    "    'house':['Gryffindor','Gryffindor','Gryffindor','Ravenclaw','Hufflepuff','Slytherin','Gryffindor'],\n",
    "    'age': [11,11,10,11,12,12,11],\n",
    "    'blood':['Half-Blood','Pure-Blood','Muggle-born','Pure-Blood','Half-Blood','Pure-Blood','Pure-Blood']\n",
    "})"
   ]
  },
  {
   "cell_type": "code",
   "execution_count": 59,
   "metadata": {},
   "outputs": [
    {
     "name": "stdout",
     "output_type": "stream",
     "text": [
      "               name       house  age        blood\n",
      "0      Harry Potter  Gryffindor   11   Half-Blood\n",
      "1       Ron Weasley  Gryffindor   11   Pure-Blood\n",
      "2  Hermione Granger  Gryffindor   10  Muggle-born\n",
      "3     Luna Lovegood   Ravenclaw   12   Pure-Blood\n",
      "4       Susan Bones  Hufflepuff   12   Half-Blood\n"
     ]
    }
   ],
   "source": [
    "print(students)"
   ]
  },
  {
   "cell_type": "code",
   "execution_count": 79,
   "metadata": {},
   "outputs": [],
   "source": [
    "# Creating dataframe by passing lists []\n",
    "# one list represents one row \n",
    "# Columns argument to list column names\n",
    "\n",
    "head_house = pd.DataFrame([\n",
    "    ['Minerva McGonagall','Gryffindor','Transfiguration','F'],\n",
    "    ['Severus Snape','Slytherin','Potions','M'],\n",
    "    ['Pomona Spout','Hufflepuff','Herbology','F'],\n",
    "    ['Filius Flitwik','Ravenclaw','Charms','M']],\n",
    "    columns=['Name','House','Subject','Gender']\n",
    ")"
   ]
  },
  {
   "cell_type": "code",
   "execution_count": 80,
   "metadata": {},
   "outputs": [
    {
     "name": "stdout",
     "output_type": "stream",
     "text": [
      "                 Name       House          Subject Gender\n",
      "0  Minerva McGonagall  Gryffindor  Transfiguration      F\n",
      "1       Severus Snape   Slytherin          Potions      M\n",
      "2        Pomona Spout  Hufflepuff        Herbology      F\n",
      "3      Filius Flitwik   Ravenclaw           Charms      M\n"
     ]
    }
   ],
   "source": [
    "print(head_house)"
   ]
  },
  {
   "cell_type": "code",
   "execution_count": 135,
   "metadata": {},
   "outputs": [],
   "source": [
    "# Load a csv file\n",
    "# https://www.kaggle.com/nehatiwari03/harry-potter-fanfiction-data\n",
    "# The dataset was too large. Only extracted top 50 rows for this example\n",
    "hp= pd.read_csv(\"hp_topfifty.csv\")"
   ]
  },
  {
   "cell_type": "code",
   "execution_count": 136,
   "metadata": {},
   "outputs": [
    {
     "data": {
      "text/html": [
       "<div>\n",
       "<style scoped>\n",
       "    .dataframe tbody tr th:only-of-type {\n",
       "        vertical-align: middle;\n",
       "    }\n",
       "\n",
       "    .dataframe tbody tr th {\n",
       "        vertical-align: top;\n",
       "    }\n",
       "\n",
       "    .dataframe thead th {\n",
       "        text-align: right;\n",
       "    }\n",
       "</style>\n",
       "<table border=\"1\" class=\"dataframe\">\n",
       "  <thead>\n",
       "    <tr style=\"text-align: right;\">\n",
       "      <th></th>\n",
       "      <th>Unnamed: 0</th>\n",
       "      <th>Chapters</th>\n",
       "      <th>Favs</th>\n",
       "      <th>Follows</th>\n",
       "      <th>Published</th>\n",
       "      <th>Reviews</th>\n",
       "      <th>Updated</th>\n",
       "      <th>Words</th>\n",
       "      <th>author</th>\n",
       "      <th>characters</th>\n",
       "      <th>genre</th>\n",
       "      <th>language</th>\n",
       "      <th>rating</th>\n",
       "      <th>story_link</th>\n",
       "      <th>synopsis</th>\n",
       "      <th>title</th>\n",
       "      <th>published_mmyy</th>\n",
       "      <th>pairing</th>\n",
       "    </tr>\n",
       "  </thead>\n",
       "  <tbody>\n",
       "    <tr>\n",
       "      <td>0</td>\n",
       "      <td>0</td>\n",
       "      <td>1</td>\n",
       "      <td>2.0</td>\n",
       "      <td>NaN</td>\n",
       "      <td>12/31/2019</td>\n",
       "      <td>1.0</td>\n",
       "      <td>NaN</td>\n",
       "      <td>6,840</td>\n",
       "      <td>reviews</td>\n",
       "      <td>Sirius B., Remus L., James P., Regulus B.</td>\n",
       "      <td>Angst/Hurt/Comfort</td>\n",
       "      <td>English</td>\n",
       "      <td>T</td>\n",
       "      <td>https://www.fanfiction.net/s/13466909/1/If-You...</td>\n",
       "      <td>Regulus and James aren't happy. They know they...</td>\n",
       "      <td>If You Change Your Mind</td>\n",
       "      <td>12-2019</td>\n",
       "      <td>NaN</td>\n",
       "    </tr>\n",
       "    <tr>\n",
       "      <td>1</td>\n",
       "      <td>1</td>\n",
       "      <td>1</td>\n",
       "      <td>1.0</td>\n",
       "      <td>NaN</td>\n",
       "      <td>12/31/2019</td>\n",
       "      <td>NaN</td>\n",
       "      <td>NaN</td>\n",
       "      <td>10,962</td>\n",
       "      <td>JoyI9199</td>\n",
       "      <td>Harry P., Draco M., Narcissa M., Charlie W.</td>\n",
       "      <td>Angst/Drama</td>\n",
       "      <td>English</td>\n",
       "      <td>M</td>\n",
       "      <td>https://www.fanfiction.net/s/13466894/1/Bloody...</td>\n",
       "      <td>When a plot from the Founder's age is revealed...</td>\n",
       "      <td>Bloody Ballgowns</td>\n",
       "      <td>12-2019</td>\n",
       "      <td>NaN</td>\n",
       "    </tr>\n",
       "  </tbody>\n",
       "</table>\n",
       "</div>"
      ],
      "text/plain": [
       "   Unnamed: 0  Chapters  Favs  Follows    Published  Reviews Updated    Words  \\\n",
       "0           0         1   2.0      NaN   12/31/2019      1.0     NaN    6,840   \n",
       "1           1         1   1.0      NaN   12/31/2019      NaN     NaN   10,962   \n",
       "\n",
       "     author                                   characters               genre  \\\n",
       "0   reviews    Sirius B., Remus L., James P., Regulus B.  Angst/Hurt/Comfort   \n",
       "1  JoyI9199  Harry P., Draco M., Narcissa M., Charlie W.         Angst/Drama   \n",
       "\n",
       "  language rating                                         story_link  \\\n",
       "0  English      T  https://www.fanfiction.net/s/13466909/1/If-You...   \n",
       "1  English      M  https://www.fanfiction.net/s/13466894/1/Bloody...   \n",
       "\n",
       "                                            synopsis                    title  \\\n",
       "0  Regulus and James aren't happy. They know they...  If You Change Your Mind   \n",
       "1  When a plot from the Founder's age is revealed...         Bloody Ballgowns   \n",
       "\n",
       "  published_mmyy pairing  \n",
       "0        12-2019     NaN  \n",
       "1        12-2019     NaN  "
      ]
     },
     "execution_count": 136,
     "metadata": {},
     "output_type": "execute_result"
    }
   ],
   "source": [
    "hp.head(2)"
   ]
  },
  {
   "cell_type": "markdown",
   "metadata": {},
   "source": [
    "**Select Columns Rows of a DataFrame**"
   ]
  },
  {
   "cell_type": "code",
   "execution_count": 60,
   "metadata": {},
   "outputs": [
    {
     "data": {
      "text/html": [
       "<div>\n",
       "<style scoped>\n",
       "    .dataframe tbody tr th:only-of-type {\n",
       "        vertical-align: middle;\n",
       "    }\n",
       "\n",
       "    .dataframe tbody tr th {\n",
       "        vertical-align: top;\n",
       "    }\n",
       "\n",
       "    .dataframe thead th {\n",
       "        text-align: right;\n",
       "    }\n",
       "</style>\n",
       "<table border=\"1\" class=\"dataframe\">\n",
       "  <thead>\n",
       "    <tr style=\"text-align: right;\">\n",
       "      <th></th>\n",
       "      <th>name</th>\n",
       "      <th>house</th>\n",
       "      <th>age</th>\n",
       "      <th>blood</th>\n",
       "    </tr>\n",
       "  </thead>\n",
       "  <tbody>\n",
       "    <tr>\n",
       "      <td>0</td>\n",
       "      <td>Harry Potter</td>\n",
       "      <td>Gryffindor</td>\n",
       "      <td>11</td>\n",
       "      <td>Half-Blood</td>\n",
       "    </tr>\n",
       "    <tr>\n",
       "      <td>1</td>\n",
       "      <td>Ron Weasley</td>\n",
       "      <td>Gryffindor</td>\n",
       "      <td>11</td>\n",
       "      <td>Pure-Blood</td>\n",
       "    </tr>\n",
       "    <tr>\n",
       "      <td>2</td>\n",
       "      <td>Hermione Granger</td>\n",
       "      <td>Gryffindor</td>\n",
       "      <td>10</td>\n",
       "      <td>Muggle-born</td>\n",
       "    </tr>\n",
       "    <tr>\n",
       "      <td>3</td>\n",
       "      <td>Luna Lovegood</td>\n",
       "      <td>Ravenclaw</td>\n",
       "      <td>12</td>\n",
       "      <td>Pure-Blood</td>\n",
       "    </tr>\n",
       "    <tr>\n",
       "      <td>4</td>\n",
       "      <td>Susan Bones</td>\n",
       "      <td>Hufflepuff</td>\n",
       "      <td>12</td>\n",
       "      <td>Half-Blood</td>\n",
       "    </tr>\n",
       "  </tbody>\n",
       "</table>\n",
       "</div>"
      ],
      "text/plain": [
       "               name       house  age        blood\n",
       "0      Harry Potter  Gryffindor   11   Half-Blood\n",
       "1       Ron Weasley  Gryffindor   11   Pure-Blood\n",
       "2  Hermione Granger  Gryffindor   10  Muggle-born\n",
       "3     Luna Lovegood   Ravenclaw   12   Pure-Blood\n",
       "4       Susan Bones  Hufflepuff   12   Half-Blood"
      ]
     },
     "execution_count": 60,
     "metadata": {},
     "output_type": "execute_result"
    }
   ],
   "source": [
    "students"
   ]
  },
  {
   "cell_type": "code",
   "execution_count": 61,
   "metadata": {},
   "outputs": [
    {
     "data": {
      "text/plain": [
       "pandas.core.frame.DataFrame"
      ]
     },
     "execution_count": 61,
     "metadata": {},
     "output_type": "execute_result"
    }
   ],
   "source": [
    "# This is a DataFrame\n",
    "type(students)"
   ]
  },
  {
   "cell_type": "code",
   "execution_count": 62,
   "metadata": {},
   "outputs": [],
   "source": [
    "# Selecting one column of a dataframe\n",
    "name_col = students.name"
   ]
  },
  {
   "cell_type": "code",
   "execution_count": 63,
   "metadata": {},
   "outputs": [
    {
     "name": "stdout",
     "output_type": "stream",
     "text": [
      "0        Harry Potter\n",
      "1         Ron Weasley\n",
      "2    Hermione Granger\n",
      "3       Luna Lovegood\n",
      "4         Susan Bones\n",
      "Name: name, dtype: object\n"
     ]
    }
   ],
   "source": [
    "print(name_col)"
   ]
  },
  {
   "cell_type": "code",
   "execution_count": 64,
   "metadata": {},
   "outputs": [
    {
     "data": {
      "text/plain": [
       "pandas.core.series.Series"
      ]
     },
     "execution_count": 64,
     "metadata": {},
     "output_type": "execute_result"
    }
   ],
   "source": [
    "# This is not a dataframe just a column\n",
    "type(name_col)"
   ]
  },
  {
   "cell_type": "code",
   "execution_count": 65,
   "metadata": {},
   "outputs": [],
   "source": [
    "# Selecting more than one column of DataFrame\n",
    "student_n_age = students[['name','age']]"
   ]
  },
  {
   "cell_type": "code",
   "execution_count": 66,
   "metadata": {},
   "outputs": [
    {
     "name": "stdout",
     "output_type": "stream",
     "text": [
      "               name  age\n",
      "0      Harry Potter   11\n",
      "1       Ron Weasley   11\n",
      "2  Hermione Granger   10\n",
      "3     Luna Lovegood   12\n",
      "4       Susan Bones   12\n"
     ]
    }
   ],
   "source": [
    "print(student_n_age)"
   ]
  },
  {
   "cell_type": "code",
   "execution_count": 67,
   "metadata": {},
   "outputs": [
    {
     "data": {
      "text/plain": [
       "pandas.core.frame.DataFrame"
      ]
     },
     "execution_count": 67,
     "metadata": {},
     "output_type": "execute_result"
    }
   ],
   "source": [
    "# more than one column - Type is a DataFrame\n",
    "type(student_n_age)"
   ]
  },
  {
   "cell_type": "code",
   "execution_count": 68,
   "metadata": {},
   "outputs": [],
   "source": [
    "# Select a row from dataframe\n",
    "s4 = students.iloc[3]"
   ]
  },
  {
   "cell_type": "code",
   "execution_count": 69,
   "metadata": {},
   "outputs": [
    {
     "data": {
      "text/plain": [
       "name     Luna Lovegood\n",
       "house        Ravenclaw\n",
       "age                 12\n",
       "blood       Pure-Blood\n",
       "Name: 3, dtype: object"
      ]
     },
     "execution_count": 69,
     "metadata": {},
     "output_type": "execute_result"
    }
   ],
   "source": [
    "# Starts at index 0, Luna is on Row 4 but index 3\n",
    "s4"
   ]
  },
  {
   "cell_type": "code",
   "execution_count": 70,
   "metadata": {},
   "outputs": [
    {
     "data": {
      "text/plain": [
       "pandas.core.series.Series"
      ]
     },
     "execution_count": 70,
     "metadata": {},
     "output_type": "execute_result"
    }
   ],
   "source": [
    "# series type\n",
    "type(s4)"
   ]
  },
  {
   "cell_type": "code",
   "execution_count": 71,
   "metadata": {},
   "outputs": [],
   "source": [
    "# Select more than one row . Will not include the ending index ie 3 in this case\n",
    "s_more = students.iloc[0:3]"
   ]
  },
  {
   "cell_type": "code",
   "execution_count": 72,
   "metadata": {},
   "outputs": [
    {
     "data": {
      "text/html": [
       "<div>\n",
       "<style scoped>\n",
       "    .dataframe tbody tr th:only-of-type {\n",
       "        vertical-align: middle;\n",
       "    }\n",
       "\n",
       "    .dataframe tbody tr th {\n",
       "        vertical-align: top;\n",
       "    }\n",
       "\n",
       "    .dataframe thead th {\n",
       "        text-align: right;\n",
       "    }\n",
       "</style>\n",
       "<table border=\"1\" class=\"dataframe\">\n",
       "  <thead>\n",
       "    <tr style=\"text-align: right;\">\n",
       "      <th></th>\n",
       "      <th>name</th>\n",
       "      <th>house</th>\n",
       "      <th>age</th>\n",
       "      <th>blood</th>\n",
       "    </tr>\n",
       "  </thead>\n",
       "  <tbody>\n",
       "    <tr>\n",
       "      <td>0</td>\n",
       "      <td>Harry Potter</td>\n",
       "      <td>Gryffindor</td>\n",
       "      <td>11</td>\n",
       "      <td>Half-Blood</td>\n",
       "    </tr>\n",
       "    <tr>\n",
       "      <td>1</td>\n",
       "      <td>Ron Weasley</td>\n",
       "      <td>Gryffindor</td>\n",
       "      <td>11</td>\n",
       "      <td>Pure-Blood</td>\n",
       "    </tr>\n",
       "    <tr>\n",
       "      <td>2</td>\n",
       "      <td>Hermione Granger</td>\n",
       "      <td>Gryffindor</td>\n",
       "      <td>10</td>\n",
       "      <td>Muggle-born</td>\n",
       "    </tr>\n",
       "  </tbody>\n",
       "</table>\n",
       "</div>"
      ],
      "text/plain": [
       "               name       house  age        blood\n",
       "0      Harry Potter  Gryffindor   11   Half-Blood\n",
       "1       Ron Weasley  Gryffindor   11   Pure-Blood\n",
       "2  Hermione Granger  Gryffindor   10  Muggle-born"
      ]
     },
     "execution_count": 72,
     "metadata": {},
     "output_type": "execute_result"
    }
   ],
   "source": [
    "s_more"
   ]
  },
  {
   "cell_type": "code",
   "execution_count": 73,
   "metadata": {},
   "outputs": [
    {
     "data": {
      "text/plain": [
       "pandas.core.frame.DataFrame"
      ]
     },
     "execution_count": 73,
     "metadata": {},
     "output_type": "execute_result"
    }
   ],
   "source": [
    "# Dataframe type\n",
    "type(s_more)"
   ]
  },
  {
   "cell_type": "code",
   "execution_count": 74,
   "metadata": {},
   "outputs": [
    {
     "data": {
      "text/html": [
       "<div>\n",
       "<style scoped>\n",
       "    .dataframe tbody tr th:only-of-type {\n",
       "        vertical-align: middle;\n",
       "    }\n",
       "\n",
       "    .dataframe tbody tr th {\n",
       "        vertical-align: top;\n",
       "    }\n",
       "\n",
       "    .dataframe thead th {\n",
       "        text-align: right;\n",
       "    }\n",
       "</style>\n",
       "<table border=\"1\" class=\"dataframe\">\n",
       "  <thead>\n",
       "    <tr style=\"text-align: right;\">\n",
       "      <th></th>\n",
       "      <th>name</th>\n",
       "      <th>house</th>\n",
       "      <th>age</th>\n",
       "      <th>blood</th>\n",
       "    </tr>\n",
       "  </thead>\n",
       "  <tbody>\n",
       "    <tr>\n",
       "      <td>0</td>\n",
       "      <td>Harry Potter</td>\n",
       "      <td>Gryffindor</td>\n",
       "      <td>11</td>\n",
       "      <td>Half-Blood</td>\n",
       "    </tr>\n",
       "    <tr>\n",
       "      <td>1</td>\n",
       "      <td>Ron Weasley</td>\n",
       "      <td>Gryffindor</td>\n",
       "      <td>11</td>\n",
       "      <td>Pure-Blood</td>\n",
       "    </tr>\n",
       "    <tr>\n",
       "      <td>2</td>\n",
       "      <td>Hermione Granger</td>\n",
       "      <td>Gryffindor</td>\n",
       "      <td>10</td>\n",
       "      <td>Muggle-born</td>\n",
       "    </tr>\n",
       "  </tbody>\n",
       "</table>\n",
       "</div>"
      ],
      "text/plain": [
       "               name       house  age        blood\n",
       "0      Harry Potter  Gryffindor   11   Half-Blood\n",
       "1       Ron Weasley  Gryffindor   11   Pure-Blood\n",
       "2  Hermione Granger  Gryffindor   10  Muggle-born"
      ]
     },
     "execution_count": 74,
     "metadata": {},
     "output_type": "execute_result"
    }
   ],
   "source": [
    "students.iloc[:3]"
   ]
  },
  {
   "cell_type": "code",
   "execution_count": 75,
   "metadata": {},
   "outputs": [
    {
     "data": {
      "text/html": [
       "<div>\n",
       "<style scoped>\n",
       "    .dataframe tbody tr th:only-of-type {\n",
       "        vertical-align: middle;\n",
       "    }\n",
       "\n",
       "    .dataframe tbody tr th {\n",
       "        vertical-align: top;\n",
       "    }\n",
       "\n",
       "    .dataframe thead th {\n",
       "        text-align: right;\n",
       "    }\n",
       "</style>\n",
       "<table border=\"1\" class=\"dataframe\">\n",
       "  <thead>\n",
       "    <tr style=\"text-align: right;\">\n",
       "      <th></th>\n",
       "      <th>name</th>\n",
       "      <th>house</th>\n",
       "      <th>age</th>\n",
       "      <th>blood</th>\n",
       "    </tr>\n",
       "  </thead>\n",
       "  <tbody>\n",
       "    <tr>\n",
       "      <td>3</td>\n",
       "      <td>Luna Lovegood</td>\n",
       "      <td>Ravenclaw</td>\n",
       "      <td>12</td>\n",
       "      <td>Pure-Blood</td>\n",
       "    </tr>\n",
       "    <tr>\n",
       "      <td>4</td>\n",
       "      <td>Susan Bones</td>\n",
       "      <td>Hufflepuff</td>\n",
       "      <td>12</td>\n",
       "      <td>Half-Blood</td>\n",
       "    </tr>\n",
       "  </tbody>\n",
       "</table>\n",
       "</div>"
      ],
      "text/plain": [
       "            name       house  age       blood\n",
       "3  Luna Lovegood   Ravenclaw   12  Pure-Blood\n",
       "4    Susan Bones  Hufflepuff   12  Half-Blood"
      ]
     },
     "execution_count": 75,
     "metadata": {},
     "output_type": "execute_result"
    }
   ],
   "source": [
    "students.iloc[3:]"
   ]
  },
  {
   "cell_type": "code",
   "execution_count": 76,
   "metadata": {},
   "outputs": [
    {
     "data": {
      "text/html": [
       "<div>\n",
       "<style scoped>\n",
       "    .dataframe tbody tr th:only-of-type {\n",
       "        vertical-align: middle;\n",
       "    }\n",
       "\n",
       "    .dataframe tbody tr th {\n",
       "        vertical-align: top;\n",
       "    }\n",
       "\n",
       "    .dataframe thead th {\n",
       "        text-align: right;\n",
       "    }\n",
       "</style>\n",
       "<table border=\"1\" class=\"dataframe\">\n",
       "  <thead>\n",
       "    <tr style=\"text-align: right;\">\n",
       "      <th></th>\n",
       "      <th>name</th>\n",
       "      <th>house</th>\n",
       "      <th>age</th>\n",
       "      <th>blood</th>\n",
       "    </tr>\n",
       "  </thead>\n",
       "  <tbody>\n",
       "    <tr>\n",
       "      <td>3</td>\n",
       "      <td>Luna Lovegood</td>\n",
       "      <td>Ravenclaw</td>\n",
       "      <td>12</td>\n",
       "      <td>Pure-Blood</td>\n",
       "    </tr>\n",
       "    <tr>\n",
       "      <td>4</td>\n",
       "      <td>Susan Bones</td>\n",
       "      <td>Hufflepuff</td>\n",
       "      <td>12</td>\n",
       "      <td>Half-Blood</td>\n",
       "    </tr>\n",
       "  </tbody>\n",
       "</table>\n",
       "</div>"
      ],
      "text/plain": [
       "            name       house  age       blood\n",
       "3  Luna Lovegood   Ravenclaw   12  Pure-Blood\n",
       "4    Susan Bones  Hufflepuff   12  Half-Blood"
      ]
     },
     "execution_count": 76,
     "metadata": {},
     "output_type": "execute_result"
    }
   ],
   "source": [
    "students.iloc[-2:]"
   ]
  },
  {
   "cell_type": "code",
   "execution_count": 77,
   "metadata": {},
   "outputs": [
    {
     "data": {
      "text/html": [
       "<div>\n",
       "<style scoped>\n",
       "    .dataframe tbody tr th:only-of-type {\n",
       "        vertical-align: middle;\n",
       "    }\n",
       "\n",
       "    .dataframe tbody tr th {\n",
       "        vertical-align: top;\n",
       "    }\n",
       "\n",
       "    .dataframe thead th {\n",
       "        text-align: right;\n",
       "    }\n",
       "</style>\n",
       "<table border=\"1\" class=\"dataframe\">\n",
       "  <thead>\n",
       "    <tr style=\"text-align: right;\">\n",
       "      <th></th>\n",
       "      <th>name</th>\n",
       "      <th>house</th>\n",
       "      <th>age</th>\n",
       "      <th>blood</th>\n",
       "    </tr>\n",
       "  </thead>\n",
       "  <tbody>\n",
       "    <tr>\n",
       "      <td>0</td>\n",
       "      <td>Harry Potter</td>\n",
       "      <td>Gryffindor</td>\n",
       "      <td>11</td>\n",
       "      <td>Half-Blood</td>\n",
       "    </tr>\n",
       "    <tr>\n",
       "      <td>1</td>\n",
       "      <td>Ron Weasley</td>\n",
       "      <td>Gryffindor</td>\n",
       "      <td>11</td>\n",
       "      <td>Pure-Blood</td>\n",
       "    </tr>\n",
       "    <tr>\n",
       "      <td>2</td>\n",
       "      <td>Hermione Granger</td>\n",
       "      <td>Gryffindor</td>\n",
       "      <td>10</td>\n",
       "      <td>Muggle-born</td>\n",
       "    </tr>\n",
       "  </tbody>\n",
       "</table>\n",
       "</div>"
      ],
      "text/plain": [
       "               name       house  age        blood\n",
       "0      Harry Potter  Gryffindor   11   Half-Blood\n",
       "1       Ron Weasley  Gryffindor   11   Pure-Blood\n",
       "2  Hermione Granger  Gryffindor   10  Muggle-born"
      ]
     },
     "execution_count": 77,
     "metadata": {},
     "output_type": "execute_result"
    }
   ],
   "source": [
    "students.iloc[:-2]"
   ]
  },
  {
   "cell_type": "code",
   "execution_count": 78,
   "metadata": {},
   "outputs": [
    {
     "data": {
      "text/html": [
       "<div>\n",
       "<style scoped>\n",
       "    .dataframe tbody tr th:only-of-type {\n",
       "        vertical-align: middle;\n",
       "    }\n",
       "\n",
       "    .dataframe tbody tr th {\n",
       "        vertical-align: top;\n",
       "    }\n",
       "\n",
       "    .dataframe thead th {\n",
       "        text-align: right;\n",
       "    }\n",
       "</style>\n",
       "<table border=\"1\" class=\"dataframe\">\n",
       "  <thead>\n",
       "    <tr style=\"text-align: right;\">\n",
       "      <th></th>\n",
       "      <th>name</th>\n",
       "      <th>house</th>\n",
       "      <th>age</th>\n",
       "      <th>blood</th>\n",
       "    </tr>\n",
       "  </thead>\n",
       "  <tbody>\n",
       "    <tr>\n",
       "      <td>1</td>\n",
       "      <td>Ron Weasley</td>\n",
       "      <td>Gryffindor</td>\n",
       "      <td>11</td>\n",
       "      <td>Pure-Blood</td>\n",
       "    </tr>\n",
       "    <tr>\n",
       "      <td>2</td>\n",
       "      <td>Hermione Granger</td>\n",
       "      <td>Gryffindor</td>\n",
       "      <td>10</td>\n",
       "      <td>Muggle-born</td>\n",
       "    </tr>\n",
       "    <tr>\n",
       "      <td>3</td>\n",
       "      <td>Luna Lovegood</td>\n",
       "      <td>Ravenclaw</td>\n",
       "      <td>12</td>\n",
       "      <td>Pure-Blood</td>\n",
       "    </tr>\n",
       "  </tbody>\n",
       "</table>\n",
       "</div>"
      ],
      "text/plain": [
       "               name       house  age        blood\n",
       "1       Ron Weasley  Gryffindor   11   Pure-Blood\n",
       "2  Hermione Granger  Gryffindor   10  Muggle-born\n",
       "3     Luna Lovegood   Ravenclaw   12   Pure-Blood"
      ]
     },
     "execution_count": 78,
     "metadata": {},
     "output_type": "execute_result"
    }
   ],
   "source": [
    "students.iloc[-4:-1]"
   ]
  },
  {
   "cell_type": "code",
   "execution_count": 82,
   "metadata": {},
   "outputs": [],
   "source": [
    "# select rows that match a condition\n",
    "gryffindor = students[students.house == 'Gryffindor']"
   ]
  },
  {
   "cell_type": "code",
   "execution_count": 84,
   "metadata": {},
   "outputs": [
    {
     "name": "stdout",
     "output_type": "stream",
     "text": [
      "               name       house  age        blood\n",
      "0      Harry Potter  Gryffindor   11   Half-Blood\n",
      "1       Ron Weasley  Gryffindor   11   Pure-Blood\n",
      "2  Hermione Granger  Gryffindor   10  Muggle-born\n"
     ]
    }
   ],
   "source": [
    "print(gryffindor)"
   ]
  },
  {
   "cell_type": "code",
   "execution_count": 87,
   "metadata": {},
   "outputs": [],
   "source": [
    "not_gryffindor = students[students.house != 'Gryffindor']"
   ]
  },
  {
   "cell_type": "code",
   "execution_count": 105,
   "metadata": {},
   "outputs": [
    {
     "data": {
      "text/html": [
       "<div>\n",
       "<style scoped>\n",
       "    .dataframe tbody tr th:only-of-type {\n",
       "        vertical-align: middle;\n",
       "    }\n",
       "\n",
       "    .dataframe tbody tr th {\n",
       "        vertical-align: top;\n",
       "    }\n",
       "\n",
       "    .dataframe thead th {\n",
       "        text-align: right;\n",
       "    }\n",
       "</style>\n",
       "<table border=\"1\" class=\"dataframe\">\n",
       "  <thead>\n",
       "    <tr style=\"text-align: right;\">\n",
       "      <th></th>\n",
       "      <th>name</th>\n",
       "      <th>house</th>\n",
       "      <th>age</th>\n",
       "      <th>blood</th>\n",
       "    </tr>\n",
       "  </thead>\n",
       "  <tbody>\n",
       "    <tr>\n",
       "      <td>3</td>\n",
       "      <td>Luna Lovegood</td>\n",
       "      <td>Ravenclaw</td>\n",
       "      <td>11</td>\n",
       "      <td>Pure-Blood</td>\n",
       "    </tr>\n",
       "    <tr>\n",
       "      <td>4</td>\n",
       "      <td>Susan Bones</td>\n",
       "      <td>Hufflepuff</td>\n",
       "      <td>12</td>\n",
       "      <td>Half-Blood</td>\n",
       "    </tr>\n",
       "    <tr>\n",
       "      <td>5</td>\n",
       "      <td>Draco Malfoy</td>\n",
       "      <td>Slytherin</td>\n",
       "      <td>12</td>\n",
       "      <td>Pure-Blood</td>\n",
       "    </tr>\n",
       "  </tbody>\n",
       "</table>\n",
       "</div>"
      ],
      "text/plain": [
       "            name       house  age       blood\n",
       "3  Luna Lovegood   Ravenclaw   11  Pure-Blood\n",
       "4    Susan Bones  Hufflepuff   12  Half-Blood\n",
       "5   Draco Malfoy   Slytherin   12  Pure-Blood"
      ]
     },
     "execution_count": 105,
     "metadata": {},
     "output_type": "execute_result"
    }
   ],
   "source": [
    "not_gryffindor"
   ]
  },
  {
   "cell_type": "code",
   "execution_count": 106,
   "metadata": {},
   "outputs": [],
   "source": [
    "# more than one condition using & \n",
    "y_gryffindor = students[(students.house == 'Gryffindor') & (students.blood == 'Pure-Blood')]"
   ]
  },
  {
   "cell_type": "code",
   "execution_count": 107,
   "metadata": {},
   "outputs": [
    {
     "data": {
      "text/html": [
       "<div>\n",
       "<style scoped>\n",
       "    .dataframe tbody tr th:only-of-type {\n",
       "        vertical-align: middle;\n",
       "    }\n",
       "\n",
       "    .dataframe tbody tr th {\n",
       "        vertical-align: top;\n",
       "    }\n",
       "\n",
       "    .dataframe thead th {\n",
       "        text-align: right;\n",
       "    }\n",
       "</style>\n",
       "<table border=\"1\" class=\"dataframe\">\n",
       "  <thead>\n",
       "    <tr style=\"text-align: right;\">\n",
       "      <th></th>\n",
       "      <th>name</th>\n",
       "      <th>house</th>\n",
       "      <th>age</th>\n",
       "      <th>blood</th>\n",
       "    </tr>\n",
       "  </thead>\n",
       "  <tbody>\n",
       "    <tr>\n",
       "      <td>1</td>\n",
       "      <td>Ron Weasley</td>\n",
       "      <td>Gryffindor</td>\n",
       "      <td>11</td>\n",
       "      <td>Pure-Blood</td>\n",
       "    </tr>\n",
       "    <tr>\n",
       "      <td>6</td>\n",
       "      <td>Neville Longbottom</td>\n",
       "      <td>Gryffindor</td>\n",
       "      <td>11</td>\n",
       "      <td>Pure-Blood</td>\n",
       "    </tr>\n",
       "  </tbody>\n",
       "</table>\n",
       "</div>"
      ],
      "text/plain": [
       "                 name       house  age       blood\n",
       "1         Ron Weasley  Gryffindor   11  Pure-Blood\n",
       "6  Neville Longbottom  Gryffindor   11  Pure-Blood"
      ]
     },
     "execution_count": 107,
     "metadata": {},
     "output_type": "execute_result"
    }
   ],
   "source": [
    "y_gryffindor"
   ]
  },
  {
   "cell_type": "code",
   "execution_count": 120,
   "metadata": {},
   "outputs": [],
   "source": [
    "# more than one condition using | pipe - it means or\n",
    "y_g = students[(students.house == 'Gryffindor') | (students.age < 12)]"
   ]
  },
  {
   "cell_type": "code",
   "execution_count": 121,
   "metadata": {},
   "outputs": [
    {
     "data": {
      "text/html": [
       "<div>\n",
       "<style scoped>\n",
       "    .dataframe tbody tr th:only-of-type {\n",
       "        vertical-align: middle;\n",
       "    }\n",
       "\n",
       "    .dataframe tbody tr th {\n",
       "        vertical-align: top;\n",
       "    }\n",
       "\n",
       "    .dataframe thead th {\n",
       "        text-align: right;\n",
       "    }\n",
       "</style>\n",
       "<table border=\"1\" class=\"dataframe\">\n",
       "  <thead>\n",
       "    <tr style=\"text-align: right;\">\n",
       "      <th></th>\n",
       "      <th>name</th>\n",
       "      <th>house</th>\n",
       "      <th>age</th>\n",
       "      <th>blood</th>\n",
       "    </tr>\n",
       "  </thead>\n",
       "  <tbody>\n",
       "    <tr>\n",
       "      <td>0</td>\n",
       "      <td>Harry Potter</td>\n",
       "      <td>Gryffindor</td>\n",
       "      <td>11</td>\n",
       "      <td>Half-Blood</td>\n",
       "    </tr>\n",
       "    <tr>\n",
       "      <td>1</td>\n",
       "      <td>Ron Weasley</td>\n",
       "      <td>Gryffindor</td>\n",
       "      <td>11</td>\n",
       "      <td>Pure-Blood</td>\n",
       "    </tr>\n",
       "    <tr>\n",
       "      <td>2</td>\n",
       "      <td>Hermione Granger</td>\n",
       "      <td>Gryffindor</td>\n",
       "      <td>10</td>\n",
       "      <td>Muggle-born</td>\n",
       "    </tr>\n",
       "    <tr>\n",
       "      <td>3</td>\n",
       "      <td>Luna Lovegood</td>\n",
       "      <td>Ravenclaw</td>\n",
       "      <td>11</td>\n",
       "      <td>Pure-Blood</td>\n",
       "    </tr>\n",
       "    <tr>\n",
       "      <td>6</td>\n",
       "      <td>Neville Longbottom</td>\n",
       "      <td>Gryffindor</td>\n",
       "      <td>11</td>\n",
       "      <td>Pure-Blood</td>\n",
       "    </tr>\n",
       "  </tbody>\n",
       "</table>\n",
       "</div>"
      ],
      "text/plain": [
       "                 name       house  age        blood\n",
       "0        Harry Potter  Gryffindor   11   Half-Blood\n",
       "1         Ron Weasley  Gryffindor   11   Pure-Blood\n",
       "2    Hermione Granger  Gryffindor   10  Muggle-born\n",
       "3       Luna Lovegood   Ravenclaw   11   Pure-Blood\n",
       "6  Neville Longbottom  Gryffindor   11   Pure-Blood"
      ]
     },
     "execution_count": 121,
     "metadata": {},
     "output_type": "execute_result"
    }
   ],
   "source": [
    "y_g"
   ]
  },
  {
   "cell_type": "code",
   "execution_count": 110,
   "metadata": {},
   "outputs": [
    {
     "data": {
      "text/html": [
       "<div>\n",
       "<style scoped>\n",
       "    .dataframe tbody tr th:only-of-type {\n",
       "        vertical-align: middle;\n",
       "    }\n",
       "\n",
       "    .dataframe tbody tr th {\n",
       "        vertical-align: top;\n",
       "    }\n",
       "\n",
       "    .dataframe thead th {\n",
       "        text-align: right;\n",
       "    }\n",
       "</style>\n",
       "<table border=\"1\" class=\"dataframe\">\n",
       "  <thead>\n",
       "    <tr style=\"text-align: right;\">\n",
       "      <th></th>\n",
       "      <th>name</th>\n",
       "      <th>house</th>\n",
       "      <th>age</th>\n",
       "      <th>blood</th>\n",
       "    </tr>\n",
       "  </thead>\n",
       "  <tbody>\n",
       "    <tr>\n",
       "      <td>0</td>\n",
       "      <td>Harry Potter</td>\n",
       "      <td>Gryffindor</td>\n",
       "      <td>11</td>\n",
       "      <td>Half-Blood</td>\n",
       "    </tr>\n",
       "    <tr>\n",
       "      <td>1</td>\n",
       "      <td>Ron Weasley</td>\n",
       "      <td>Gryffindor</td>\n",
       "      <td>11</td>\n",
       "      <td>Pure-Blood</td>\n",
       "    </tr>\n",
       "    <tr>\n",
       "      <td>3</td>\n",
       "      <td>Luna Lovegood</td>\n",
       "      <td>Ravenclaw</td>\n",
       "      <td>11</td>\n",
       "      <td>Pure-Blood</td>\n",
       "    </tr>\n",
       "    <tr>\n",
       "      <td>4</td>\n",
       "      <td>Susan Bones</td>\n",
       "      <td>Hufflepuff</td>\n",
       "      <td>12</td>\n",
       "      <td>Half-Blood</td>\n",
       "    </tr>\n",
       "    <tr>\n",
       "      <td>5</td>\n",
       "      <td>Draco Malfoy</td>\n",
       "      <td>Slytherin</td>\n",
       "      <td>12</td>\n",
       "      <td>Pure-Blood</td>\n",
       "    </tr>\n",
       "    <tr>\n",
       "      <td>6</td>\n",
       "      <td>Neville Longbottom</td>\n",
       "      <td>Gryffindor</td>\n",
       "      <td>11</td>\n",
       "      <td>Pure-Blood</td>\n",
       "    </tr>\n",
       "  </tbody>\n",
       "</table>\n",
       "</div>"
      ],
      "text/plain": [
       "                 name       house  age       blood\n",
       "0        Harry Potter  Gryffindor   11  Half-Blood\n",
       "1         Ron Weasley  Gryffindor   11  Pure-Blood\n",
       "3       Luna Lovegood   Ravenclaw   11  Pure-Blood\n",
       "4         Susan Bones  Hufflepuff   12  Half-Blood\n",
       "5        Draco Malfoy   Slytherin   12  Pure-Blood\n",
       "6  Neville Longbottom  Gryffindor   11  Pure-Blood"
      ]
     },
     "execution_count": 110,
     "metadata": {},
     "output_type": "execute_result"
    }
   ],
   "source": [
    "# Select rows using isin . Returns the matching rows\n",
    "students[students.blood.isin(['Pure-Blood','Half-Blood'])]"
   ]
  },
  {
   "cell_type": "markdown",
   "metadata": {},
   "source": [
    "**Reset Index**"
   ]
  },
  {
   "cell_type": "code",
   "execution_count": 124,
   "metadata": {},
   "outputs": [
    {
     "data": {
      "text/html": [
       "<div>\n",
       "<style scoped>\n",
       "    .dataframe tbody tr th:only-of-type {\n",
       "        vertical-align: middle;\n",
       "    }\n",
       "\n",
       "    .dataframe tbody tr th {\n",
       "        vertical-align: top;\n",
       "    }\n",
       "\n",
       "    .dataframe thead th {\n",
       "        text-align: right;\n",
       "    }\n",
       "</style>\n",
       "<table border=\"1\" class=\"dataframe\">\n",
       "  <thead>\n",
       "    <tr style=\"text-align: right;\">\n",
       "      <th></th>\n",
       "      <th>name</th>\n",
       "      <th>house</th>\n",
       "      <th>age</th>\n",
       "      <th>blood</th>\n",
       "    </tr>\n",
       "  </thead>\n",
       "  <tbody>\n",
       "    <tr>\n",
       "      <td>0</td>\n",
       "      <td>Harry Potter</td>\n",
       "      <td>Gryffindor</td>\n",
       "      <td>11</td>\n",
       "      <td>Half-Blood</td>\n",
       "    </tr>\n",
       "    <tr>\n",
       "      <td>1</td>\n",
       "      <td>Ron Weasley</td>\n",
       "      <td>Gryffindor</td>\n",
       "      <td>11</td>\n",
       "      <td>Pure-Blood</td>\n",
       "    </tr>\n",
       "    <tr>\n",
       "      <td>2</td>\n",
       "      <td>Hermione Granger</td>\n",
       "      <td>Gryffindor</td>\n",
       "      <td>10</td>\n",
       "      <td>Muggle-born</td>\n",
       "    </tr>\n",
       "    <tr>\n",
       "      <td>3</td>\n",
       "      <td>Luna Lovegood</td>\n",
       "      <td>Ravenclaw</td>\n",
       "      <td>11</td>\n",
       "      <td>Pure-Blood</td>\n",
       "    </tr>\n",
       "    <tr>\n",
       "      <td>6</td>\n",
       "      <td>Neville Longbottom</td>\n",
       "      <td>Gryffindor</td>\n",
       "      <td>11</td>\n",
       "      <td>Pure-Blood</td>\n",
       "    </tr>\n",
       "  </tbody>\n",
       "</table>\n",
       "</div>"
      ],
      "text/plain": [
       "                 name       house  age        blood\n",
       "0        Harry Potter  Gryffindor   11   Half-Blood\n",
       "1         Ron Weasley  Gryffindor   11   Pure-Blood\n",
       "2    Hermione Granger  Gryffindor   10  Muggle-born\n",
       "3       Luna Lovegood   Ravenclaw   11   Pure-Blood\n",
       "6  Neville Longbottom  Gryffindor   11   Pure-Blood"
      ]
     },
     "execution_count": 124,
     "metadata": {},
     "output_type": "execute_result"
    }
   ],
   "source": [
    "# the index is not in order as this is just a selected rows\n",
    "y_g"
   ]
  },
  {
   "cell_type": "code",
   "execution_count": 123,
   "metadata": {},
   "outputs": [
    {
     "data": {
      "text/html": [
       "<div>\n",
       "<style scoped>\n",
       "    .dataframe tbody tr th:only-of-type {\n",
       "        vertical-align: middle;\n",
       "    }\n",
       "\n",
       "    .dataframe tbody tr th {\n",
       "        vertical-align: top;\n",
       "    }\n",
       "\n",
       "    .dataframe thead th {\n",
       "        text-align: right;\n",
       "    }\n",
       "</style>\n",
       "<table border=\"1\" class=\"dataframe\">\n",
       "  <thead>\n",
       "    <tr style=\"text-align: right;\">\n",
       "      <th></th>\n",
       "      <th>index</th>\n",
       "      <th>name</th>\n",
       "      <th>house</th>\n",
       "      <th>age</th>\n",
       "      <th>blood</th>\n",
       "    </tr>\n",
       "  </thead>\n",
       "  <tbody>\n",
       "    <tr>\n",
       "      <td>0</td>\n",
       "      <td>0</td>\n",
       "      <td>Harry Potter</td>\n",
       "      <td>Gryffindor</td>\n",
       "      <td>11</td>\n",
       "      <td>Half-Blood</td>\n",
       "    </tr>\n",
       "    <tr>\n",
       "      <td>1</td>\n",
       "      <td>1</td>\n",
       "      <td>Ron Weasley</td>\n",
       "      <td>Gryffindor</td>\n",
       "      <td>11</td>\n",
       "      <td>Pure-Blood</td>\n",
       "    </tr>\n",
       "    <tr>\n",
       "      <td>2</td>\n",
       "      <td>2</td>\n",
       "      <td>Hermione Granger</td>\n",
       "      <td>Gryffindor</td>\n",
       "      <td>10</td>\n",
       "      <td>Muggle-born</td>\n",
       "    </tr>\n",
       "    <tr>\n",
       "      <td>3</td>\n",
       "      <td>3</td>\n",
       "      <td>Luna Lovegood</td>\n",
       "      <td>Ravenclaw</td>\n",
       "      <td>11</td>\n",
       "      <td>Pure-Blood</td>\n",
       "    </tr>\n",
       "    <tr>\n",
       "      <td>4</td>\n",
       "      <td>6</td>\n",
       "      <td>Neville Longbottom</td>\n",
       "      <td>Gryffindor</td>\n",
       "      <td>11</td>\n",
       "      <td>Pure-Blood</td>\n",
       "    </tr>\n",
       "  </tbody>\n",
       "</table>\n",
       "</div>"
      ],
      "text/plain": [
       "   index                name       house  age        blood\n",
       "0      0        Harry Potter  Gryffindor   11   Half-Blood\n",
       "1      1         Ron Weasley  Gryffindor   11   Pure-Blood\n",
       "2      2    Hermione Granger  Gryffindor   10  Muggle-born\n",
       "3      3       Luna Lovegood   Ravenclaw   11   Pure-Blood\n",
       "4      6  Neville Longbottom  Gryffindor   11   Pure-Blood"
      ]
     },
     "execution_count": 123,
     "metadata": {},
     "output_type": "execute_result"
    }
   ],
   "source": [
    "# This will create a new index but will keep the new index. ANd this does not change the original dataframe index\n",
    "y_g.reset_index()"
   ]
  },
  {
   "cell_type": "code",
   "execution_count": 126,
   "metadata": {},
   "outputs": [
    {
     "data": {
      "text/html": [
       "<div>\n",
       "<style scoped>\n",
       "    .dataframe tbody tr th:only-of-type {\n",
       "        vertical-align: middle;\n",
       "    }\n",
       "\n",
       "    .dataframe tbody tr th {\n",
       "        vertical-align: top;\n",
       "    }\n",
       "\n",
       "    .dataframe thead th {\n",
       "        text-align: right;\n",
       "    }\n",
       "</style>\n",
       "<table border=\"1\" class=\"dataframe\">\n",
       "  <thead>\n",
       "    <tr style=\"text-align: right;\">\n",
       "      <th></th>\n",
       "      <th>name</th>\n",
       "      <th>house</th>\n",
       "      <th>age</th>\n",
       "      <th>blood</th>\n",
       "    </tr>\n",
       "  </thead>\n",
       "  <tbody>\n",
       "    <tr>\n",
       "      <td>0</td>\n",
       "      <td>Harry Potter</td>\n",
       "      <td>Gryffindor</td>\n",
       "      <td>11</td>\n",
       "      <td>Half-Blood</td>\n",
       "    </tr>\n",
       "    <tr>\n",
       "      <td>1</td>\n",
       "      <td>Ron Weasley</td>\n",
       "      <td>Gryffindor</td>\n",
       "      <td>11</td>\n",
       "      <td>Pure-Blood</td>\n",
       "    </tr>\n",
       "    <tr>\n",
       "      <td>2</td>\n",
       "      <td>Hermione Granger</td>\n",
       "      <td>Gryffindor</td>\n",
       "      <td>10</td>\n",
       "      <td>Muggle-born</td>\n",
       "    </tr>\n",
       "    <tr>\n",
       "      <td>3</td>\n",
       "      <td>Luna Lovegood</td>\n",
       "      <td>Ravenclaw</td>\n",
       "      <td>11</td>\n",
       "      <td>Pure-Blood</td>\n",
       "    </tr>\n",
       "    <tr>\n",
       "      <td>6</td>\n",
       "      <td>Neville Longbottom</td>\n",
       "      <td>Gryffindor</td>\n",
       "      <td>11</td>\n",
       "      <td>Pure-Blood</td>\n",
       "    </tr>\n",
       "  </tbody>\n",
       "</table>\n",
       "</div>"
      ],
      "text/plain": [
       "                 name       house  age        blood\n",
       "0        Harry Potter  Gryffindor   11   Half-Blood\n",
       "1         Ron Weasley  Gryffindor   11   Pure-Blood\n",
       "2    Hermione Granger  Gryffindor   10  Muggle-born\n",
       "3       Luna Lovegood   Ravenclaw   11   Pure-Blood\n",
       "6  Neville Longbottom  Gryffindor   11   Pure-Blood"
      ]
     },
     "execution_count": 126,
     "metadata": {},
     "output_type": "execute_result"
    }
   ],
   "source": [
    "# index dint change\n",
    "y_g"
   ]
  },
  {
   "cell_type": "code",
   "execution_count": 127,
   "metadata": {},
   "outputs": [
    {
     "data": {
      "text/html": [
       "<div>\n",
       "<style scoped>\n",
       "    .dataframe tbody tr th:only-of-type {\n",
       "        vertical-align: middle;\n",
       "    }\n",
       "\n",
       "    .dataframe tbody tr th {\n",
       "        vertical-align: top;\n",
       "    }\n",
       "\n",
       "    .dataframe thead th {\n",
       "        text-align: right;\n",
       "    }\n",
       "</style>\n",
       "<table border=\"1\" class=\"dataframe\">\n",
       "  <thead>\n",
       "    <tr style=\"text-align: right;\">\n",
       "      <th></th>\n",
       "      <th>name</th>\n",
       "      <th>house</th>\n",
       "      <th>age</th>\n",
       "      <th>blood</th>\n",
       "    </tr>\n",
       "  </thead>\n",
       "  <tbody>\n",
       "    <tr>\n",
       "      <td>0</td>\n",
       "      <td>Harry Potter</td>\n",
       "      <td>Gryffindor</td>\n",
       "      <td>11</td>\n",
       "      <td>Half-Blood</td>\n",
       "    </tr>\n",
       "    <tr>\n",
       "      <td>1</td>\n",
       "      <td>Ron Weasley</td>\n",
       "      <td>Gryffindor</td>\n",
       "      <td>11</td>\n",
       "      <td>Pure-Blood</td>\n",
       "    </tr>\n",
       "    <tr>\n",
       "      <td>2</td>\n",
       "      <td>Hermione Granger</td>\n",
       "      <td>Gryffindor</td>\n",
       "      <td>10</td>\n",
       "      <td>Muggle-born</td>\n",
       "    </tr>\n",
       "    <tr>\n",
       "      <td>3</td>\n",
       "      <td>Luna Lovegood</td>\n",
       "      <td>Ravenclaw</td>\n",
       "      <td>11</td>\n",
       "      <td>Pure-Blood</td>\n",
       "    </tr>\n",
       "    <tr>\n",
       "      <td>4</td>\n",
       "      <td>Neville Longbottom</td>\n",
       "      <td>Gryffindor</td>\n",
       "      <td>11</td>\n",
       "      <td>Pure-Blood</td>\n",
       "    </tr>\n",
       "  </tbody>\n",
       "</table>\n",
       "</div>"
      ],
      "text/plain": [
       "                 name       house  age        blood\n",
       "0        Harry Potter  Gryffindor   11   Half-Blood\n",
       "1         Ron Weasley  Gryffindor   11   Pure-Blood\n",
       "2    Hermione Granger  Gryffindor   10  Muggle-born\n",
       "3       Luna Lovegood   Ravenclaw   11   Pure-Blood\n",
       "4  Neville Longbottom  Gryffindor   11   Pure-Blood"
      ]
     },
     "execution_count": 127,
     "metadata": {},
     "output_type": "execute_result"
    }
   ],
   "source": [
    "# This will drop the index column that has old index number. But will not change the original\n",
    "y_g.reset_index(drop=True)"
   ]
  },
  {
   "cell_type": "code",
   "execution_count": 128,
   "metadata": {},
   "outputs": [
    {
     "data": {
      "text/html": [
       "<div>\n",
       "<style scoped>\n",
       "    .dataframe tbody tr th:only-of-type {\n",
       "        vertical-align: middle;\n",
       "    }\n",
       "\n",
       "    .dataframe tbody tr th {\n",
       "        vertical-align: top;\n",
       "    }\n",
       "\n",
       "    .dataframe thead th {\n",
       "        text-align: right;\n",
       "    }\n",
       "</style>\n",
       "<table border=\"1\" class=\"dataframe\">\n",
       "  <thead>\n",
       "    <tr style=\"text-align: right;\">\n",
       "      <th></th>\n",
       "      <th>name</th>\n",
       "      <th>house</th>\n",
       "      <th>age</th>\n",
       "      <th>blood</th>\n",
       "    </tr>\n",
       "  </thead>\n",
       "  <tbody>\n",
       "    <tr>\n",
       "      <td>0</td>\n",
       "      <td>Harry Potter</td>\n",
       "      <td>Gryffindor</td>\n",
       "      <td>11</td>\n",
       "      <td>Half-Blood</td>\n",
       "    </tr>\n",
       "    <tr>\n",
       "      <td>1</td>\n",
       "      <td>Ron Weasley</td>\n",
       "      <td>Gryffindor</td>\n",
       "      <td>11</td>\n",
       "      <td>Pure-Blood</td>\n",
       "    </tr>\n",
       "    <tr>\n",
       "      <td>2</td>\n",
       "      <td>Hermione Granger</td>\n",
       "      <td>Gryffindor</td>\n",
       "      <td>10</td>\n",
       "      <td>Muggle-born</td>\n",
       "    </tr>\n",
       "    <tr>\n",
       "      <td>3</td>\n",
       "      <td>Luna Lovegood</td>\n",
       "      <td>Ravenclaw</td>\n",
       "      <td>11</td>\n",
       "      <td>Pure-Blood</td>\n",
       "    </tr>\n",
       "    <tr>\n",
       "      <td>6</td>\n",
       "      <td>Neville Longbottom</td>\n",
       "      <td>Gryffindor</td>\n",
       "      <td>11</td>\n",
       "      <td>Pure-Blood</td>\n",
       "    </tr>\n",
       "  </tbody>\n",
       "</table>\n",
       "</div>"
      ],
      "text/plain": [
       "                 name       house  age        blood\n",
       "0        Harry Potter  Gryffindor   11   Half-Blood\n",
       "1         Ron Weasley  Gryffindor   11   Pure-Blood\n",
       "2    Hermione Granger  Gryffindor   10  Muggle-born\n",
       "3       Luna Lovegood   Ravenclaw   11   Pure-Blood\n",
       "6  Neville Longbottom  Gryffindor   11   Pure-Blood"
      ]
     },
     "execution_count": 128,
     "metadata": {},
     "output_type": "execute_result"
    }
   ],
   "source": [
    "y_g"
   ]
  },
  {
   "cell_type": "code",
   "execution_count": 129,
   "metadata": {},
   "outputs": [],
   "source": [
    "# This will change the index in the original dataframe\n",
    "y_g.reset_index(drop=True,inplace=True)"
   ]
  },
  {
   "cell_type": "code",
   "execution_count": 130,
   "metadata": {},
   "outputs": [
    {
     "data": {
      "text/html": [
       "<div>\n",
       "<style scoped>\n",
       "    .dataframe tbody tr th:only-of-type {\n",
       "        vertical-align: middle;\n",
       "    }\n",
       "\n",
       "    .dataframe tbody tr th {\n",
       "        vertical-align: top;\n",
       "    }\n",
       "\n",
       "    .dataframe thead th {\n",
       "        text-align: right;\n",
       "    }\n",
       "</style>\n",
       "<table border=\"1\" class=\"dataframe\">\n",
       "  <thead>\n",
       "    <tr style=\"text-align: right;\">\n",
       "      <th></th>\n",
       "      <th>name</th>\n",
       "      <th>house</th>\n",
       "      <th>age</th>\n",
       "      <th>blood</th>\n",
       "    </tr>\n",
       "  </thead>\n",
       "  <tbody>\n",
       "    <tr>\n",
       "      <td>0</td>\n",
       "      <td>Harry Potter</td>\n",
       "      <td>Gryffindor</td>\n",
       "      <td>11</td>\n",
       "      <td>Half-Blood</td>\n",
       "    </tr>\n",
       "    <tr>\n",
       "      <td>1</td>\n",
       "      <td>Ron Weasley</td>\n",
       "      <td>Gryffindor</td>\n",
       "      <td>11</td>\n",
       "      <td>Pure-Blood</td>\n",
       "    </tr>\n",
       "    <tr>\n",
       "      <td>2</td>\n",
       "      <td>Hermione Granger</td>\n",
       "      <td>Gryffindor</td>\n",
       "      <td>10</td>\n",
       "      <td>Muggle-born</td>\n",
       "    </tr>\n",
       "    <tr>\n",
       "      <td>3</td>\n",
       "      <td>Luna Lovegood</td>\n",
       "      <td>Ravenclaw</td>\n",
       "      <td>11</td>\n",
       "      <td>Pure-Blood</td>\n",
       "    </tr>\n",
       "    <tr>\n",
       "      <td>4</td>\n",
       "      <td>Neville Longbottom</td>\n",
       "      <td>Gryffindor</td>\n",
       "      <td>11</td>\n",
       "      <td>Pure-Blood</td>\n",
       "    </tr>\n",
       "  </tbody>\n",
       "</table>\n",
       "</div>"
      ],
      "text/plain": [
       "                 name       house  age        blood\n",
       "0        Harry Potter  Gryffindor   11   Half-Blood\n",
       "1         Ron Weasley  Gryffindor   11   Pure-Blood\n",
       "2    Hermione Granger  Gryffindor   10  Muggle-born\n",
       "3       Luna Lovegood   Ravenclaw   11   Pure-Blood\n",
       "4  Neville Longbottom  Gryffindor   11   Pure-Blood"
      ]
     },
     "execution_count": 130,
     "metadata": {},
     "output_type": "execute_result"
    }
   ],
   "source": [
    "y_g"
   ]
  },
  {
   "cell_type": "code",
   "execution_count": null,
   "metadata": {},
   "outputs": [],
   "source": []
  }
 ],
 "metadata": {
  "kernelspec": {
   "display_name": "Python 3",
   "language": "python",
   "name": "python3"
  },
  "language_info": {
   "codemirror_mode": {
    "name": "ipython",
    "version": 3
   },
   "file_extension": ".py",
   "mimetype": "text/x-python",
   "name": "python",
   "nbconvert_exporter": "python",
   "pygments_lexer": "ipython3",
   "version": "3.7.4"
  }
 },
 "nbformat": 4,
 "nbformat_minor": 2
}
