{
 "cells": [
  {
   "cell_type": "markdown",
   "metadata": {},
   "source": [
    "### Loops - Let us move through each item of a list"
   ]
  },
  {
   "cell_type": "code",
   "execution_count": 3,
   "metadata": {},
   "outputs": [],
   "source": [
    "# a simple  for loop\n",
    "colors = ['Red',\"yellow\",\"orange\",\"pink\",\"purple\",\"lilac\"]"
   ]
  },
  {
   "cell_type": "code",
   "execution_count": 4,
   "metadata": {},
   "outputs": [
    {
     "name": "stdout",
     "output_type": "stream",
     "text": [
      "Red\n",
      "yellow\n",
      "orange\n",
      "pink\n",
      "purple\n",
      "lilac\n"
     ]
    }
   ],
   "source": [
    "#This will print each color in the colors list. \n",
    "for color in colors:\n",
    "    print(color)"
   ]
  },
  {
   "cell_type": "code",
   "execution_count": 5,
   "metadata": {},
   "outputs": [
    {
     "name": "stdout",
     "output_type": "stream",
     "text": [
      "Red\n",
      "yellow\n",
      "orange\n",
      "pink\n",
      "purple\n",
      "lilac\n"
     ]
    }
   ],
   "source": [
    "# We can use any name in the for loop. using i instead of color will produce the same result\n",
    "for i in colors:\n",
    "    print(i)"
   ]
  },
  {
   "cell_type": "markdown",
   "metadata": {},
   "source": [
    "### Range in Loops"
   ]
  },
  {
   "cell_type": "code",
   "execution_count": 6,
   "metadata": {},
   "outputs": [
    {
     "name": "stdout",
     "output_type": "stream",
     "text": [
      "yes\n",
      "yes\n",
      "yes\n"
     ]
    }
   ],
   "source": [
    "# This will print \"yes\" three times as mentioned in the range. \n",
    "# We can change this to 10 if we want yes printed 10 times\n",
    "for i in range(3):\n",
    "  print(\"yes\")"
   ]
  },
  {
   "cell_type": "code",
   "execution_count": 7,
   "metadata": {},
   "outputs": [],
   "source": [
    "flavor = \"I like chocolate icecream\""
   ]
  },
  {
   "cell_type": "code",
   "execution_count": 8,
   "metadata": {},
   "outputs": [
    {
     "name": "stdout",
     "output_type": "stream",
     "text": [
      "I like chocolate icecream\n",
      "I like chocolate icecream\n",
      "I like chocolate icecream\n",
      "I like chocolate icecream\n",
      "I like chocolate icecream\n"
     ]
    }
   ],
   "source": [
    "for i in range(5):\n",
    "    print(flavor)"
   ]
  },
  {
   "cell_type": "code",
   "execution_count": 24,
   "metadata": {},
   "outputs": [],
   "source": [
    "# We can append (add items to the end) items from one list to other list\n",
    "lst1 = [\"apples\",\"oranges\",\"bananas\",\"grapes\"]\n",
    "lst2 =[\"kiwi\",\"mango\",\"berries\",\"papaya\"]"
   ]
  },
  {
   "cell_type": "code",
   "execution_count": 25,
   "metadata": {},
   "outputs": [
    {
     "name": "stdout",
     "output_type": "stream",
     "text": [
      "['kiwi', 'mango', 'berries', 'papaya', 'apples', 'oranges', 'bananas', 'grapes']\n"
     ]
    }
   ],
   "source": [
    "# this will add each fruit from lst1 into lst2 one at a time and \n",
    "for fruits in lst1:\n",
    "    lst2.append(fruits)\n",
    "print(lst2)"
   ]
  },
  {
   "cell_type": "code",
   "execution_count": 19,
   "metadata": {},
   "outputs": [
    {
     "name": "stdout",
     "output_type": "stream",
     "text": [
      "['kiwi', 'mango', 'berries', 'papaya', 'apples']\n",
      "['kiwi', 'mango', 'berries', 'papaya', 'apples', 'oranges']\n",
      "['kiwi', 'mango', 'berries', 'papaya', 'apples', 'oranges', 'bananas']\n",
      "['kiwi', 'mango', 'berries', 'papaya', 'apples', 'oranges', 'bananas', 'grapes']\n"
     ]
    }
   ],
   "source": [
    "# if print is in the for statement then 4 lines will be printed as there are 4 fruits in lst1 to be added to lst2\n",
    "for fruits in lst1:\n",
    "    lst2.append(fruits)\n",
    "    print(lst2)"
   ]
  },
  {
   "cell_type": "code",
   "execution_count": 26,
   "metadata": {},
   "outputs": [
    {
     "name": "stdout",
     "output_type": "stream",
     "text": [
      "['apples', 'oranges', 'bananas', 'grapes']\n"
     ]
    }
   ],
   "source": [
    "print(lst1)"
   ]
  },
  {
   "cell_type": "code",
   "execution_count": 27,
   "metadata": {},
   "outputs": [
    {
     "name": "stdout",
     "output_type": "stream",
     "text": [
      "['kiwi', 'mango', 'berries', 'papaya', 'apples', 'oranges', 'bananas', 'grapes']\n"
     ]
    }
   ],
   "source": [
    "print(lst2)"
   ]
  },
  {
   "cell_type": "markdown",
   "metadata": {},
   "source": [
    "### Break in loop"
   ]
  },
  {
   "cell_type": "markdown",
   "metadata": {},
   "source": [
    "A break in the for loop will stop the loop when the value is found. It will not print all the values in the list"
   ]
  },
  {
   "cell_type": "code",
   "execution_count": 28,
   "metadata": {},
   "outputs": [],
   "source": [
    "fruits = ['kiwi', 'mango', 'berries', 'papaya', 'apples', 'oranges', 'bananas', 'grapes']"
   ]
  },
  {
   "cell_type": "code",
   "execution_count": 30,
   "metadata": {},
   "outputs": [
    {
     "name": "stdout",
     "output_type": "stream",
     "text": [
      "kiwi\n",
      "mango\n",
      "berries\n",
      "papaya\n",
      "apples\n",
      "They have what I want!\n"
     ]
    }
   ],
   "source": [
    "# the loop will print the item and then print the statment\n",
    "for fruit in fruits:\n",
    "  print(fruit)\n",
    "  if fruit == 'apples':\n",
    "    break\n",
    "print(\"They have what I want!\")"
   ]
  },
  {
   "cell_type": "markdown",
   "metadata": {},
   "source": [
    "### Continue in loop"
   ]
  },
  {
   "cell_type": "markdown",
   "metadata": {},
   "source": [
    "Continue will continue to print the items in a list but skip the items not required"
   ]
  },
  {
   "cell_type": "code",
   "execution_count": 42,
   "metadata": {},
   "outputs": [],
   "source": [
    "ages = [12,18,15,17,16,19,17,16,19,18]"
   ]
  },
  {
   "cell_type": "code",
   "execution_count": 45,
   "metadata": {},
   "outputs": [
    {
     "name": "stdout",
     "output_type": "stream",
     "text": [
      "18\n",
      "17\n",
      "16\n",
      "19\n",
      "17\n",
      "16\n",
      "19\n",
      "18\n"
     ]
    }
   ],
   "source": [
    "# Skips all the ages 16 and under\n",
    "for age in ages:\n",
    "    if age < 16:\n",
    "        continue\n",
    "    print(age)"
   ]
  },
  {
   "cell_type": "code",
   "execution_count": 46,
   "metadata": {},
   "outputs": [],
   "source": [
    "fruits1 = ['kiwi', 'mango', 'berries', 'papaya','mango', 'apples','mango', 'oranges', 'bananas','mango', 'grapes']"
   ]
  },
  {
   "cell_type": "code",
   "execution_count": 48,
   "metadata": {},
   "outputs": [
    {
     "name": "stdout",
     "output_type": "stream",
     "text": [
      "kiwi\n",
      "berries\n",
      "papaya\n",
      "apples\n",
      "oranges\n",
      "bananas\n",
      "grapes\n"
     ]
    }
   ],
   "source": [
    "for i in fruits1:\n",
    "    if i == 'mango':\n",
    "        continue\n",
    "    print(i)"
   ]
  },
  {
   "cell_type": "markdown",
   "metadata": {},
   "source": [
    "### While Loops"
   ]
  },
  {
   "cell_type": "markdown",
   "metadata": {},
   "source": [
    "While loop performs the set of code until some condition is met"
   ]
  },
  {
   "cell_type": "code",
   "execution_count": 50,
   "metadata": {},
   "outputs": [],
   "source": [
    "fruits = ['kiwi', 'mango', 'berries', 'papaya', 'apples', 'oranges', 'bananas', 'grapes']"
   ]
  },
  {
   "cell_type": "code",
   "execution_count": 51,
   "metadata": {},
   "outputs": [
    {
     "data": {
      "text/plain": [
       "8"
      ]
     },
     "execution_count": 51,
     "metadata": {},
     "output_type": "execute_result"
    }
   ],
   "source": [
    "len(fruits)"
   ]
  },
  {
   "cell_type": "code",
   "execution_count": 55,
   "metadata": {},
   "outputs": [
    {
     "name": "stdout",
     "output_type": "stream",
     "text": [
      "kiwi\n",
      "mango\n",
      "berries\n",
      "papaya\n",
      "apples\n",
      "oranges\n",
      "bananas\n",
      "grapes\n"
     ]
    }
   ],
   "source": [
    "# When the condition index<len(fruits) is met the loops run. If we set the index = 9, it will not run.\n",
    "# the loop will print the name of the fruit at index mentioned and the next\n",
    "index = 0\n",
    "while index < len(fruits):\n",
    "  print(fruits[index])\n",
    "  index += 1"
   ]
  },
  {
   "cell_type": "code",
   "execution_count": 56,
   "metadata": {},
   "outputs": [],
   "source": [
    "index = 9\n",
    "while index < len(fruits):\n",
    "  print(fruits[index])\n",
    "  index += 1"
   ]
  },
  {
   "cell_type": "code",
   "execution_count": 57,
   "metadata": {},
   "outputs": [
    {
     "name": "stdout",
     "output_type": "stream",
     "text": [
      "apples\n",
      "oranges\n",
      "bananas\n",
      "grapes\n"
     ]
    }
   ],
   "source": [
    "#apples is at index 4 . So loop will print apples and everything after apples\n",
    "index = 4\n",
    "while index < len(fruits):\n",
    "  print(fruits[index])\n",
    "  index += 1"
   ]
  },
  {
   "cell_type": "code",
   "execution_count": 58,
   "metadata": {},
   "outputs": [],
   "source": [
    "# appending new items in a list using while"
   ]
  },
  {
   "cell_type": "code",
   "execution_count": 59,
   "metadata": {},
   "outputs": [],
   "source": [
    "grocerylist = []"
   ]
  },
  {
   "cell_type": "code",
   "execution_count": 60,
   "metadata": {},
   "outputs": [],
   "source": [
    "masterlist = ['apples', 'oranges', 'bananas','milk','bread','eggs','yogurt','cheese','cereal','chips']"
   ]
  },
  {
   "cell_type": "code",
   "execution_count": null,
   "metadata": {},
   "outputs": [],
   "source": []
  }
 ],
 "metadata": {
  "kernelspec": {
   "display_name": "Python 3",
   "language": "python",
   "name": "python3"
  },
  "language_info": {
   "codemirror_mode": {
    "name": "ipython",
    "version": 3
   },
   "file_extension": ".py",
   "mimetype": "text/x-python",
   "name": "python",
   "nbconvert_exporter": "python",
   "pygments_lexer": "ipython3",
   "version": "3.7.4"
  }
 },
 "nbformat": 4,
 "nbformat_minor": 2
}
