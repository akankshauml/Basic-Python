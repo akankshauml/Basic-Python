{
 "cells": [
  {
   "cell_type": "markdown",
   "metadata": {},
   "source": [
    "**LIST**\n",
    "- Ordered set of objects"
   ]
  },
  {
   "cell_type": "code",
   "execution_count": 14,
   "metadata": {},
   "outputs": [],
   "source": [
    "# can create empty lists\n",
    "empty = []"
   ]
  },
  {
   "cell_type": "code",
   "execution_count": 1,
   "metadata": {},
   "outputs": [],
   "source": [
    "# Begins and ends with square brackets [ ] , with each item separated by a , ( keep a space after , ) \n",
    "list1 = [7,8,9,10]"
   ]
  },
  {
   "cell_type": "code",
   "execution_count": 2,
   "metadata": {},
   "outputs": [],
   "source": [
    "#Can contain numbers and strings together\n",
    "list2 = ['one',2,'three',4]"
   ]
  },
  {
   "cell_type": "code",
   "execution_count": 3,
   "metadata": {},
   "outputs": [],
   "source": [
    "# can have lists inside of a list\n",
    "list_in_list = [['one',1],['two',2],['three',3],['four',4]]"
   ]
  },
  {
   "cell_type": "code",
   "execution_count": 10,
   "metadata": {},
   "outputs": [],
   "source": [
    "# Zipping lists together:\n",
    "# zip takes two (or more) lists as inputs and returns an object that contains a list of pairs.\n",
    "\n",
    "lista = ['one','two','three','four']\n",
    "listb = [1,2,3,4]\n",
    "lista_b = zip(lista,listb)"
   ]
  },
  {
   "cell_type": "code",
   "execution_count": 11,
   "metadata": {},
   "outputs": [
    {
     "data": {
      "text/plain": [
       "<zip at 0x1106d7500>"
      ]
     },
     "execution_count": 11,
     "metadata": {},
     "output_type": "execute_result"
    }
   ],
   "source": [
    "# does not print the zipped lists. Have to pass it as a list\n",
    "lista_b"
   ]
  },
  {
   "cell_type": "code",
   "execution_count": 12,
   "metadata": {},
   "outputs": [],
   "source": [
    "# this will print the zipped list as a list\n",
    "listc = list(lista_b)"
   ]
  },
  {
   "cell_type": "code",
   "execution_count": 13,
   "metadata": {},
   "outputs": [
    {
     "name": "stdout",
     "output_type": "stream",
     "text": [
      "[('one', 1), ('two', 2), ('three', 3), ('four', 4)]\n"
     ]
    }
   ],
   "source": [
    "print(listc)"
   ]
  },
  {
   "cell_type": "markdown",
   "metadata": {},
   "source": [
    "**Appending item in list**"
   ]
  },
  {
   "cell_type": "code",
   "execution_count": 15,
   "metadata": {},
   "outputs": [],
   "source": [
    "# In empty list\n",
    "empty= []"
   ]
  },
  {
   "cell_type": "code",
   "execution_count": 16,
   "metadata": {},
   "outputs": [],
   "source": [
    "# Will add 8 to an empty list\n",
    "empty.append(8)"
   ]
  },
  {
   "cell_type": "code",
   "execution_count": 17,
   "metadata": {},
   "outputs": [
    {
     "name": "stdout",
     "output_type": "stream",
     "text": [
      "[8]\n"
     ]
    }
   ],
   "source": [
    "print(empty)"
   ]
  },
  {
   "cell_type": "code",
   "execution_count": 18,
   "metadata": {},
   "outputs": [],
   "source": [
    "# Will append at end of the list, can add str and int\n",
    "empty.append(80)\n",
    "empty.append(\"one\")"
   ]
  },
  {
   "cell_type": "code",
   "execution_count": 21,
   "metadata": {},
   "outputs": [
    {
     "name": "stdout",
     "output_type": "stream",
     "text": [
      "[8, 80, 'one']\n"
     ]
    }
   ],
   "source": [
    "print(empty)"
   ]
  },
  {
   "cell_type": "code",
   "execution_count": 24,
   "metadata": {},
   "outputs": [],
   "source": [
    "# adding more than one item in a list. \n",
    "empty_add = empty + [90,8,2,\"five\"]"
   ]
  },
  {
   "cell_type": "code",
   "execution_count": 28,
   "metadata": {},
   "outputs": [],
   "source": [
    "# adding int \n",
    "empty_add = empty + [20]"
   ]
  },
  {
   "cell_type": "code",
   "execution_count": 29,
   "metadata": {},
   "outputs": [
    {
     "name": "stdout",
     "output_type": "stream",
     "text": [
      "[8, 80, 'one', 20]\n"
     ]
    }
   ],
   "source": [
    "print(empty_add)"
   ]
  },
  {
   "cell_type": "markdown",
   "metadata": {},
   "source": [
    "**Range**"
   ]
  },
  {
   "cell_type": "code",
   "execution_count": 30,
   "metadata": {},
   "outputs": [],
   "source": [
    "# will create a range from 0 to 9 ( does not include the number in agrument)\n",
    "rng = range(10)"
   ]
  },
  {
   "cell_type": "code",
   "execution_count": 31,
   "metadata": {},
   "outputs": [
    {
     "name": "stdout",
     "output_type": "stream",
     "text": [
      "range(0, 10)\n"
     ]
    }
   ],
   "source": [
    "print(rng)"
   ]
  },
  {
   "cell_type": "code",
   "execution_count": null,
   "metadata": {},
   "outputs": [],
   "source": [
    "# "
   ]
  },
  {
   "cell_type": "code",
   "execution_count": null,
   "metadata": {},
   "outputs": [],
   "source": []
  },
  {
   "cell_type": "code",
   "execution_count": null,
   "metadata": {},
   "outputs": [],
   "source": []
  },
  {
   "cell_type": "code",
   "execution_count": null,
   "metadata": {},
   "outputs": [],
   "source": []
  },
  {
   "cell_type": "code",
   "execution_count": null,
   "metadata": {},
   "outputs": [],
   "source": []
  },
  {
   "cell_type": "markdown",
   "metadata": {},
   "source": [
    "### Loops - Let us move through each item of a list"
   ]
  },
  {
   "cell_type": "code",
   "execution_count": 3,
   "metadata": {},
   "outputs": [],
   "source": [
    "# a simple  for loop\n",
    "colors = ['Red',\"yellow\",\"orange\",\"pink\",\"purple\",\"lilac\"]"
   ]
  },
  {
   "cell_type": "code",
   "execution_count": 4,
   "metadata": {},
   "outputs": [
    {
     "name": "stdout",
     "output_type": "stream",
     "text": [
      "Red\n",
      "yellow\n",
      "orange\n",
      "pink\n",
      "purple\n",
      "lilac\n"
     ]
    }
   ],
   "source": [
    "#This will print each color in the colors list. \n",
    "for color in colors:\n",
    "    print(color)"
   ]
  },
  {
   "cell_type": "code",
   "execution_count": 5,
   "metadata": {},
   "outputs": [
    {
     "name": "stdout",
     "output_type": "stream",
     "text": [
      "Red\n",
      "yellow\n",
      "orange\n",
      "pink\n",
      "purple\n",
      "lilac\n"
     ]
    }
   ],
   "source": [
    "# We can use any name in the for loop. using i instead of color will produce the same result\n",
    "for i in colors:\n",
    "    print(i)"
   ]
  },
  {
   "cell_type": "markdown",
   "metadata": {},
   "source": [
    "### Range in Loops"
   ]
  },
  {
   "cell_type": "code",
   "execution_count": 6,
   "metadata": {},
   "outputs": [
    {
     "name": "stdout",
     "output_type": "stream",
     "text": [
      "yes\n",
      "yes\n",
      "yes\n"
     ]
    }
   ],
   "source": [
    "# This will print \"yes\" three times as mentioned in the range. \n",
    "# We can change this to 10 if we want yes printed 10 times\n",
    "for i in range(3):\n",
    "  print(\"yes\")"
   ]
  },
  {
   "cell_type": "code",
   "execution_count": 7,
   "metadata": {},
   "outputs": [],
   "source": [
    "flavor = \"I like chocolate icecream\""
   ]
  },
  {
   "cell_type": "code",
   "execution_count": 8,
   "metadata": {},
   "outputs": [
    {
     "name": "stdout",
     "output_type": "stream",
     "text": [
      "I like chocolate icecream\n",
      "I like chocolate icecream\n",
      "I like chocolate icecream\n",
      "I like chocolate icecream\n",
      "I like chocolate icecream\n"
     ]
    }
   ],
   "source": [
    "for i in range(5):\n",
    "    print(flavor)"
   ]
  },
  {
   "cell_type": "code",
   "execution_count": 24,
   "metadata": {},
   "outputs": [],
   "source": [
    "# We can append (add items to the end) items from one list to other list\n",
    "lst1 = [\"apples\",\"oranges\",\"bananas\",\"grapes\"]\n",
    "lst2 =[\"kiwi\",\"mango\",\"berries\",\"papaya\"]"
   ]
  },
  {
   "cell_type": "code",
   "execution_count": 25,
   "metadata": {},
   "outputs": [
    {
     "name": "stdout",
     "output_type": "stream",
     "text": [
      "['kiwi', 'mango', 'berries', 'papaya', 'apples', 'oranges', 'bananas', 'grapes']\n"
     ]
    }
   ],
   "source": [
    "# this will add each fruit from lst1 into lst2 one at a time and \n",
    "for fruits in lst1:\n",
    "    lst2.append(fruits)\n",
    "print(lst2)"
   ]
  },
  {
   "cell_type": "code",
   "execution_count": 19,
   "metadata": {},
   "outputs": [
    {
     "name": "stdout",
     "output_type": "stream",
     "text": [
      "['kiwi', 'mango', 'berries', 'papaya', 'apples']\n",
      "['kiwi', 'mango', 'berries', 'papaya', 'apples', 'oranges']\n",
      "['kiwi', 'mango', 'berries', 'papaya', 'apples', 'oranges', 'bananas']\n",
      "['kiwi', 'mango', 'berries', 'papaya', 'apples', 'oranges', 'bananas', 'grapes']\n"
     ]
    }
   ],
   "source": [
    "# if print is in the for statement then 4 lines will be printed as there are 4 fruits in lst1 to be added to lst2\n",
    "for fruits in lst1:\n",
    "    lst2.append(fruits)\n",
    "    print(lst2)"
   ]
  },
  {
   "cell_type": "code",
   "execution_count": 26,
   "metadata": {},
   "outputs": [
    {
     "name": "stdout",
     "output_type": "stream",
     "text": [
      "['apples', 'oranges', 'bananas', 'grapes']\n"
     ]
    }
   ],
   "source": [
    "print(lst1)"
   ]
  },
  {
   "cell_type": "code",
   "execution_count": 27,
   "metadata": {},
   "outputs": [
    {
     "name": "stdout",
     "output_type": "stream",
     "text": [
      "['kiwi', 'mango', 'berries', 'papaya', 'apples', 'oranges', 'bananas', 'grapes']\n"
     ]
    }
   ],
   "source": [
    "print(lst2)"
   ]
  },
  {
   "cell_type": "markdown",
   "metadata": {},
   "source": [
    "### Break in loop"
   ]
  },
  {
   "cell_type": "markdown",
   "metadata": {},
   "source": [
    "A break in the for loop will stop the loop when the value is found. It will not print all the values in the list"
   ]
  },
  {
   "cell_type": "code",
   "execution_count": 28,
   "metadata": {},
   "outputs": [],
   "source": [
    "fruits = ['kiwi', 'mango', 'berries', 'papaya', 'apples', 'oranges', 'bananas', 'grapes']"
   ]
  },
  {
   "cell_type": "code",
   "execution_count": 30,
   "metadata": {},
   "outputs": [
    {
     "name": "stdout",
     "output_type": "stream",
     "text": [
      "kiwi\n",
      "mango\n",
      "berries\n",
      "papaya\n",
      "apples\n",
      "They have what I want!\n"
     ]
    }
   ],
   "source": [
    "# the loop will print the item and then print the statment\n",
    "for fruit in fruits:\n",
    "  print(fruit)\n",
    "  if fruit == 'apples':\n",
    "    break\n",
    "print(\"They have what I want!\")"
   ]
  },
  {
   "cell_type": "markdown",
   "metadata": {},
   "source": [
    "### Continue in loop"
   ]
  },
  {
   "cell_type": "markdown",
   "metadata": {},
   "source": [
    "Continue will continue to print the items in a list but skip the items not required"
   ]
  },
  {
   "cell_type": "code",
   "execution_count": 42,
   "metadata": {},
   "outputs": [],
   "source": [
    "ages = [12,18,15,17,16,19,17,16,19,18]"
   ]
  },
  {
   "cell_type": "code",
   "execution_count": 45,
   "metadata": {},
   "outputs": [
    {
     "name": "stdout",
     "output_type": "stream",
     "text": [
      "18\n",
      "17\n",
      "16\n",
      "19\n",
      "17\n",
      "16\n",
      "19\n",
      "18\n"
     ]
    }
   ],
   "source": [
    "# Skips all the ages 16 and under\n",
    "for age in ages:\n",
    "    if age < 16:\n",
    "        continue\n",
    "    print(age)"
   ]
  },
  {
   "cell_type": "code",
   "execution_count": 46,
   "metadata": {},
   "outputs": [],
   "source": [
    "fruits1 = ['kiwi', 'mango', 'berries', 'papaya','mango', 'apples','mango', 'oranges', 'bananas','mango', 'grapes']"
   ]
  },
  {
   "cell_type": "code",
   "execution_count": 48,
   "metadata": {},
   "outputs": [
    {
     "name": "stdout",
     "output_type": "stream",
     "text": [
      "kiwi\n",
      "berries\n",
      "papaya\n",
      "apples\n",
      "oranges\n",
      "bananas\n",
      "grapes\n"
     ]
    }
   ],
   "source": [
    "for i in fruits1:\n",
    "    if i == 'mango':\n",
    "        continue\n",
    "    print(i)"
   ]
  },
  {
   "cell_type": "markdown",
   "metadata": {},
   "source": [
    "### While Loops"
   ]
  },
  {
   "cell_type": "markdown",
   "metadata": {},
   "source": [
    "While loop performs the set of code until some condition is met"
   ]
  },
  {
   "cell_type": "code",
   "execution_count": 50,
   "metadata": {},
   "outputs": [],
   "source": [
    "fruits = ['kiwi', 'mango', 'berries', 'papaya', 'apples', 'oranges', 'bananas', 'grapes']"
   ]
  },
  {
   "cell_type": "code",
   "execution_count": 51,
   "metadata": {},
   "outputs": [
    {
     "data": {
      "text/plain": [
       "8"
      ]
     },
     "execution_count": 51,
     "metadata": {},
     "output_type": "execute_result"
    }
   ],
   "source": [
    "len(fruits)"
   ]
  },
  {
   "cell_type": "code",
   "execution_count": 55,
   "metadata": {},
   "outputs": [
    {
     "name": "stdout",
     "output_type": "stream",
     "text": [
      "kiwi\n",
      "mango\n",
      "berries\n",
      "papaya\n",
      "apples\n",
      "oranges\n",
      "bananas\n",
      "grapes\n"
     ]
    }
   ],
   "source": [
    "# When the condition index<len(fruits) is met the loops run. If we set the index = 9, it will not run.\n",
    "# the loop will print the name of the fruit at index mentioned and the next\n",
    "index = 0\n",
    "while index < len(fruits):\n",
    "  print(fruits[index])\n",
    "  index += 1"
   ]
  },
  {
   "cell_type": "code",
   "execution_count": 56,
   "metadata": {},
   "outputs": [],
   "source": [
    "index = 9\n",
    "while index < len(fruits):\n",
    "  print(fruits[index])\n",
    "  index += 1"
   ]
  },
  {
   "cell_type": "code",
   "execution_count": 57,
   "metadata": {},
   "outputs": [
    {
     "name": "stdout",
     "output_type": "stream",
     "text": [
      "apples\n",
      "oranges\n",
      "bananas\n",
      "grapes\n"
     ]
    }
   ],
   "source": [
    "#apples is at index 4 . So loop will print apples and everything after apples\n",
    "index = 4\n",
    "while index < len(fruits):\n",
    "  print(fruits[index])\n",
    "  index += 1"
   ]
  },
  {
   "cell_type": "code",
   "execution_count": 58,
   "metadata": {},
   "outputs": [],
   "source": [
    "# appending new items in a list using while"
   ]
  },
  {
   "cell_type": "code",
   "execution_count": 59,
   "metadata": {},
   "outputs": [],
   "source": [
    "grocerylist = []"
   ]
  },
  {
   "cell_type": "code",
   "execution_count": 60,
   "metadata": {},
   "outputs": [],
   "source": [
    "masterlist = ['apples', 'oranges', 'bananas','milk','bread','eggs','yogurt','cheese','cereal','chips']"
   ]
  },
  {
   "cell_type": "code",
   "execution_count": null,
   "metadata": {},
   "outputs": [],
   "source": []
  }
 ],
 "metadata": {
  "kernelspec": {
   "display_name": "Python 3",
   "language": "python",
   "name": "python3"
  },
  "language_info": {
   "codemirror_mode": {
    "name": "ipython",
    "version": 3
   },
   "file_extension": ".py",
   "mimetype": "text/x-python",
   "name": "python",
   "nbconvert_exporter": "python",
   "pygments_lexer": "ipython3",
   "version": "3.7.4"
  }
 },
 "nbformat": 4,
 "nbformat_minor": 2
}
